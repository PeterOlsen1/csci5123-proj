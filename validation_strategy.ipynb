{
 "cells": [
  {
   "cell_type": "code",
   "execution_count": 1,
   "metadata": {
    "ExecuteTime": {
     "end_time": "2018-07-01T14:34:32.956595Z",
     "start_time": "2018-07-01T14:34:29.017541Z"
    }
   },
   "outputs": [],
   "source": [
    "import joblib\n",
    "\n",
    "import numpy as np\n",
    "import pandas as pd"
   ]
  },
  {
   "cell_type": "code",
   "execution_count": 2,
   "metadata": {
    "ExecuteTime": {
     "end_time": "2018-07-01T14:34:32.962203Z",
     "start_time": "2018-07-01T14:34:32.958994Z"
    }
   },
   "outputs": [],
   "source": [
    "np.random.seed(0)"
   ]
  },
  {
   "cell_type": "code",
   "execution_count": 3,
   "metadata": {
    "ExecuteTime": {
     "end_time": "2018-07-01T14:34:39.086648Z",
     "start_time": "2018-07-01T14:34:32.964967Z"
    }
   },
   "outputs": [],
   "source": [
    "df_tracks = pd.read_hdf('df_data/df_tracks.hdf')\n",
    "df_playlists = pd.read_hdf('df_data/df_playlists.hdf')\n",
    "df_playlists_info = pd.read_hdf('df_data/df_playlists_info.hdf')\n",
    "df_playlists_test = pd.read_hdf('df_data/df_playlists_test.hdf')\n",
    "df_playlists_test_info = pd.read_hdf('df_data/df_playlists_test_info.hdf')"
   ]
  },
  {
   "cell_type": "code",
   "execution_count": 4,
   "metadata": {
    "ExecuteTime": {
     "end_time": "2018-07-01T14:34:39.205096Z",
     "start_time": "2018-07-01T14:34:39.088535Z"
    },
    "scrolled": true
   },
   "outputs": [],
   "source": [
    "num_tracks = df_playlists_info.groupby('num_tracks').pid.apply(np.array)"
   ]
  },
  {
   "cell_type": "code",
   "execution_count": 8,
   "metadata": {
    "ExecuteTime": {
     "end_time": "2018-07-01T14:34:39.349860Z",
     "start_time": "2018-07-01T14:34:39.206740Z"
    }
   },
   "outputs": [
    {
     "name": "stdout",
     "output_type": "stream",
     "text": [
      "Key 246 not found in num_tracks\n",
      "Key 208 not found in num_tracks\n",
      "Key 187 not found in num_tracks\n",
      "Key 227 not found in num_tracks\n",
      "Key 186 not found in num_tracks\n",
      "Key 223 not found in num_tracks\n",
      "Key 222 not found in num_tracks\n",
      "Key 182 not found in num_tracks\n",
      "Key 163 not found in num_tracks\n",
      "Key 184 not found in num_tracks\n"
     ]
    }
   ],
   "source": [
    "validation_playlists = {}\n",
    "for i, j in df_playlists_test_info.num_tracks.value_counts().reset_index().values:\n",
    "    if i in num_tracks.index:\n",
    "        sample_size = min(2 * j, len(num_tracks.loc[i]))\n",
    "        validation_playlists[i] = np.random.choice(num_tracks.loc[i], sample_size, replace=False)\n",
    "    else:\n",
    "        print(f\"Key {i} not found in num_tracks\")"
   ]
  },
  {
   "cell_type": "code",
   "execution_count": null,
   "metadata": {
    "ExecuteTime": {
     "end_time": "2018-07-01T14:34:39.406820Z",
     "start_time": "2018-07-01T14:34:39.351337Z"
    }
   },
   "outputs": [
    {
     "name": "stdout",
     "output_type": "stream",
     "text": [
      "[10556    74   706   206 10005   387 10429   336 10537   278 10257   233]\n",
      "[10495   784   372   289 10092   963   204 10571   147 10283   707 10927\n",
      " 10027   653   810 10325   947   928]\n",
      "[  368   248 10084 10755 10167    82   198   503 10850   497 10744   177\n",
      "   871 10109   536 10713 10671]\n",
      "[10086   983 10477 10984 10960   434]\n"
     ]
    }
   ],
   "source": [
    "val1_playlist = {}\n",
    "val2_playlist = {}\n",
    "for i in [0, 1, 5, 10, 25, 100]:\n",
    "    \n",
    "    val1_playlist[i] = []\n",
    "    val2_playlist[i] = []\n",
    "\n",
    "    value_counts = df_playlists_test_info.query('num_tracks==@i').num_tracks.value_counts()\n",
    "    for j, k in  value_counts.reset_index().values:\n",
    "        \n",
    "        val1_playlist[i] += list(validation_playlists[j][:k])\n",
    "        validation_playlists[j] = validation_playlists[j][k:]\n",
    "        \n",
    "        val2_playlist[i] += list(validation_playlists[j][:k])\n",
    "        validation_playlists[j] = validation_playlists[j][k:]\n"
   ]
  },
  {
   "cell_type": "code",
   "execution_count": 10,
   "metadata": {
    "ExecuteTime": {
     "end_time": "2018-07-01T14:34:48.226657Z",
     "start_time": "2018-07-01T14:34:39.408496Z"
    }
   },
   "outputs": [],
   "source": [
    "val1_index = df_playlists.pid.isin(val1_playlist[0])\n",
    "val2_index = df_playlists.pid.isin(val2_playlist[0])"
   ]
  },
  {
   "cell_type": "code",
   "execution_count": 11,
   "metadata": {
    "ExecuteTime": {
     "end_time": "2018-07-01T14:35:37.867465Z",
     "start_time": "2018-07-01T14:34:48.228583Z"
    }
   },
   "outputs": [],
   "source": [
    "for i in [1, 5, 10, 25, 100]:\n",
    "    val1_index = val1_index | (df_playlists.pid.isin(val1_playlist[i]) & (df_playlists.pos >= i))\n",
    "    val2_index = val2_index | (df_playlists.pid.isin(val2_playlist[i]) & (df_playlists.pos >= i))"
   ]
  },
  {
   "cell_type": "code",
   "execution_count": 29,
   "metadata": {
    "ExecuteTime": {
     "end_time": "2018-07-01T14:35:40.097713Z",
     "start_time": "2018-07-01T14:35:37.869600Z"
    }
   },
   "outputs": [],
   "source": [
    "train = df_playlists[~(val1_index | val2_index)]\n",
    "\n",
    "val1 = df_playlists[val1_index]\n",
    "val2 = df_playlists[val2_index]\n",
    "\n",
    "val1_pids = np.hstack([val1_playlist[i] for i in val1_playlist])\n",
    "val2_pids = np.hstack([val2_playlist[i] for i in val2_playlist])"
   ]
  },
  {
   "cell_type": "code",
   "execution_count": 30,
   "metadata": {
    "ExecuteTime": {
     "end_time": "2018-07-01T14:35:41.482052Z",
     "start_time": "2018-07-01T14:35:40.099524Z"
    }
   },
   "outputs": [],
   "source": [
    "train = pd.concat([train, df_playlists_test])"
   ]
  },
  {
   "cell_type": "code",
   "execution_count": null,
   "metadata": {
    "ExecuteTime": {
     "end_time": "2018-07-01T14:35:43.000702Z",
     "start_time": "2018-07-01T14:35:41.483782Z"
    }
   },
   "outputs": [
    {
     "data": {
      "text/plain": [
       "['df_data/val2_pids.pkl']"
      ]
     },
     "execution_count": 31,
     "metadata": {},
     "output_type": "execute_result"
    }
   ],
   "source": [
    "train.to_hdf('df_data/train.hdf', key=\"abc\")\n",
    "\n",
    "val1.to_hdf('df_data/val1.hdf', key=\"abc\")\n",
    "val2.to_hdf('df_data/val2.hdf', key=\"abc\")\n",
    "\n",
    "joblib.dump(val1_pids, 'df_data/val1_pids.pkl')\n",
    "joblib.dump(val2_pids, 'df_data/val2_pids.pkl')"
   ]
  }
 ],
 "metadata": {
  "kernelspec": {
   "display_name": "csci5123-proj",
   "language": "python",
   "name": "python3"
  },
  "language_info": {
   "codemirror_mode": {
    "name": "ipython",
    "version": 3
   },
   "file_extension": ".py",
   "mimetype": "text/x-python",
   "name": "python",
   "nbconvert_exporter": "python",
   "pygments_lexer": "ipython3",
   "version": "3.10.12"
  },
  "toc": {
   "nav_menu": {},
   "number_sections": true,
   "sideBar": true,
   "skip_h1_title": false,
   "title_cell": "Table of Contents",
   "title_sidebar": "Contents",
   "toc_cell": false,
   "toc_position": {},
   "toc_section_display": true,
   "toc_window_display": false
  }
 },
 "nbformat": 4,
 "nbformat_minor": 2
}
