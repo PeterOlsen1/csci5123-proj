{
 "cells": [
  {
   "cell_type": "code",
   "execution_count": 26,
   "metadata": {
    "ExecuteTime": {
     "end_time": "2018-07-01T14:34:32.956595Z",
     "start_time": "2018-07-01T14:34:29.017541Z"
    }
   },
   "outputs": [],
   "source": [
    "import joblib\n",
    "\n",
    "import numpy as np\n",
    "import pandas as pd"
   ]
  },
  {
   "cell_type": "code",
   "execution_count": 27,
   "metadata": {
    "ExecuteTime": {
     "end_time": "2018-07-01T14:34:32.962203Z",
     "start_time": "2018-07-01T14:34:32.958994Z"
    }
   },
   "outputs": [],
   "source": [
    "np.random.seed(0)"
   ]
  },
  {
   "cell_type": "code",
   "execution_count": 28,
   "metadata": {
    "ExecuteTime": {
     "end_time": "2018-07-01T14:34:39.086648Z",
     "start_time": "2018-07-01T14:34:32.964967Z"
    }
   },
   "outputs": [],
   "source": [
    "df_tracks = pd.read_hdf('df_data/df_tracks.hdf')\n",
    "df_playlists = pd.read_hdf('df_data/df_playlists.hdf')\n",
    "df_playlists_info = pd.read_hdf('df_data/df_playlists_info.hdf')\n",
    "df_playlists_test = pd.read_hdf('df_data/df_playlists_test.hdf')\n",
    "df_playlists_test_info = pd.read_hdf('df_data/df_playlists_test_info.hdf')"
   ]
  },
  {
   "cell_type": "code",
   "execution_count": 29,
   "metadata": {
    "ExecuteTime": {
     "end_time": "2018-07-01T14:34:39.205096Z",
     "start_time": "2018-07-01T14:34:39.088535Z"
    },
    "scrolled": true
   },
   "outputs": [],
   "source": [
    "num_tracks = df_playlists_info.groupby('num_tracks').pid.apply(np.array)"
   ]
  },
  {
   "cell_type": "code",
   "execution_count": 30,
   "metadata": {
    "ExecuteTime": {
     "end_time": "2018-07-01T14:34:39.349860Z",
     "start_time": "2018-07-01T14:34:39.206740Z"
    }
   },
   "outputs": [],
   "source": [
    "validation_playlists = {}\n",
    "for i, j in df_playlists_test_info.num_tracks.value_counts().reset_index().values:\n",
    "    if i in num_tracks.index:\n",
    "        sample_size = min(2 * j, len(num_tracks.loc[i]))\n",
    "        validation_playlists[i] = np.random.choice(num_tracks.loc[i], sample_size, replace=False)\n",
    "    else:\n",
    "        print(f\"Key {i} not found in num_tracks\")"
   ]
  },
  {
   "cell_type": "code",
   "execution_count": 31,
   "metadata": {
    "ExecuteTime": {
     "end_time": "2018-07-01T14:34:39.406820Z",
     "start_time": "2018-07-01T14:34:39.351337Z"
    }
   },
   "outputs": [],
   "source": [
    "val1_playlist = {}\n",
    "val2_playlist = {}\n",
    "for i in [0, 1, 5, 10, 25, 100]:\n",
    "    \n",
    "    val1_playlist[i] = []\n",
    "    val2_playlist[i] = []\n",
    "\n",
    "    value_counts = df_playlists_test_info.query('num_samples==@i').num_tracks.value_counts()\n",
    "    for j, k in  value_counts.reset_index().values:\n",
    "        \n",
    "        val1_playlist[i] += list(validation_playlists[j][:k])\n",
    "        validation_playlists[j] = validation_playlists[j][k:]\n",
    "        \n",
    "        val2_playlist[i] += list(validation_playlists[j][:k])\n",
    "        validation_playlists[j] = validation_playlists[j][k:]\n"
   ]
  },
  {
   "cell_type": "code",
   "execution_count": 32,
   "metadata": {
    "ExecuteTime": {
     "end_time": "2018-07-01T14:34:48.226657Z",
     "start_time": "2018-07-01T14:34:39.408496Z"
    }
   },
   "outputs": [],
   "source": [
    "val1_index = df_playlists.pid.isin(val1_playlist[0])\n",
    "val2_index = df_playlists.pid.isin(val2_playlist[0])"
   ]
  },
  {
   "cell_type": "code",
   "execution_count": 33,
   "metadata": {
    "ExecuteTime": {
     "end_time": "2018-07-01T14:35:37.867465Z",
     "start_time": "2018-07-01T14:34:48.228583Z"
    }
   },
   "outputs": [],
   "source": [
    "for i in [1, 5, 10, 25, 100]:\n",
    "    val1_index = val1_index | (df_playlists.pid.isin(val1_playlist[i]) & (df_playlists.pos >= i))\n",
    "    val2_index = val2_index | (df_playlists.pid.isin(val2_playlist[i]) & (df_playlists.pos >= i))"
   ]
  },
  {
   "cell_type": "code",
   "execution_count": 34,
   "metadata": {
    "ExecuteTime": {
     "end_time": "2018-07-01T14:35:40.097713Z",
     "start_time": "2018-07-01T14:35:37.869600Z"
    }
   },
   "outputs": [],
   "source": [
    "train = df_playlists[~(val1_index | val2_index)]\n",
    "\n",
    "val1 = df_playlists[val1_index]\n",
    "val2 = df_playlists[val2_index]\n",
    "\n",
    "val1_pids = np.hstack([val1_playlist[i] for i in val1_playlist])\n",
    "val2_pids = np.hstack([val2_playlist[i] for i in val2_playlist])"
   ]
  },
  {
   "cell_type": "code",
   "execution_count": 35,
   "metadata": {
    "ExecuteTime": {
     "end_time": "2018-07-01T14:35:41.482052Z",
     "start_time": "2018-07-01T14:35:40.099524Z"
    }
   },
   "outputs": [],
   "source": [
    "train = pd.concat([train, df_playlists_test])"
   ]
  },
  {
   "cell_type": "code",
   "execution_count": 36,
   "metadata": {
    "ExecuteTime": {
     "end_time": "2018-07-01T14:35:43.000702Z",
     "start_time": "2018-07-01T14:35:41.483782Z"
    }
   },
   "outputs": [
    {
     "data": {
      "text/plain": [
       "['df_data/val2_pids.pkl']"
      ]
     },
     "execution_count": 36,
     "metadata": {},
     "output_type": "execute_result"
    }
   ],
   "source": [
    "train.to_hdf('df_data/train.hdf', key=\"abc\")\n",
    "\n",
    "val1.to_hdf('df_data/val1.hdf', key=\"abc\")\n",
    "val2.to_hdf('df_data/val2.hdf', key=\"abc\")\n",
    "\n",
    "joblib.dump(val1_pids, 'df_data/val1_pids.pkl')\n",
    "joblib.dump(val2_pids, 'df_data/val2_pids.pkl')"
   ]
  }
 ],
 "metadata": {
  "kernelspec": {
   "display_name": "csci5123-proj",
   "language": "python",
   "name": "python3"
  },
  "language_info": {
   "codemirror_mode": {
    "name": "ipython",
    "version": 3
   },
   "file_extension": ".py",
   "mimetype": "text/x-python",
   "name": "python",
   "nbconvert_exporter": "python",
   "pygments_lexer": "ipython3",
   "version": "3.10.12"
  },
  "toc": {
   "nav_menu": {},
   "number_sections": true,
   "sideBar": true,
   "skip_h1_title": false,
   "title_cell": "Table of Contents",
   "title_sidebar": "Contents",
   "toc_cell": false,
   "toc_position": {},
   "toc_section_display": true,
   "toc_window_display": false
  }
 },
 "nbformat": 4,
 "nbformat_minor": 2
}
