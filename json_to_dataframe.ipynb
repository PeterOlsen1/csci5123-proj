{
 "cells": [
  {
   "cell_type": "code",
   "execution_count": 1,
   "metadata": {
    "ExecuteTime": {
     "end_time": "2018-07-01T14:15:04.857015Z",
     "start_time": "2018-07-01T14:15:04.585235Z"
    }
   },
   "outputs": [],
   "source": [
    "import os\n",
    "import json\n",
    "\n",
    "import pandas as pd"
   ]
  },
  {
   "cell_type": "code",
   "execution_count": 2,
   "metadata": {
    "ExecuteTime": {
     "end_time": "2018-07-01T14:15:05.553308Z",
     "start_time": "2018-07-01T14:15:05.436753Z"
    }
   },
   "outputs": [
    {
     "name": "stdout",
     "output_type": "stream",
     "text": [
      "mkdir: df_data: File exists\n"
     ]
    }
   ],
   "source": [
    "!mkdir df_data"
   ]
  },
  {
   "cell_type": "code",
   "execution_count": 3,
   "metadata": {
    "ExecuteTime": {
     "end_time": "2018-07-01T14:15:12.229221Z",
     "start_time": "2018-07-01T14:15:12.079706Z"
    }
   },
   "outputs": [],
   "source": [
    "def create_df_data():\n",
    "    \n",
    "    path = 'data'\n",
    "    \n",
    "    playlist_col = ['collaborative', 'duration_ms', 'modified_at', \n",
    "                'name', 'num_albums', 'num_artists', 'num_edits',\n",
    "                'num_followers', 'num_tracks', 'pid']\n",
    "    tracks_col = ['album_name', 'album_uri', 'artist_name', 'artist_uri', \n",
    "                  'duration_ms', 'track_name', 'track_uri'] \n",
    "    playlist_test_col = ['name', 'num_holdouts', 'num_samples', 'num_tracks', 'pid']\n",
    "    \n",
    "    filenames = os.listdir(path)\n",
    "    \n",
    "    data_playlists = []\n",
    "    data_tracks = []\n",
    "    playlists = []\n",
    "\n",
    "    tracks = set()\n",
    "\n",
    "    i = 0\n",
    "    for filename in filenames:\n",
    "        if filename == '.DS_Store':\n",
    "            continue\n",
    "        fullpath = os.sep.join((path, filename))\n",
    "        f = open(fullpath)\n",
    "        js = f.read()\n",
    "        f.close()\n",
    "\n",
    "        mpd_slice = json.loads(js)\n",
    "\n",
    "        for playlist in mpd_slice['playlists']:\n",
    "            #index the playlist manually since we didn't download them all\n",
    "            playlist['pid'] = i\n",
    "            i += 1\n",
    "            \n",
    "            data_playlists.append([playlist[col] for col in playlist_col])\n",
    "            for track in playlist['tracks']:\n",
    "                playlists.append([playlist['pid'], track['track_uri'], track['pos']])\n",
    "                if track['track_uri'] not in tracks:\n",
    "                    data_tracks.append([track[col] for col in tracks_col])\n",
    "                    tracks.add(track['track_uri'])\n",
    "\n",
    "    f = open('challenge_set.json')\n",
    "    js = f.read()\n",
    "    f.close()\n",
    "    mpd_slice = json.loads(js)\n",
    "\n",
    "    data_playlists_test = []\n",
    "    playlists_test = []\n",
    "\n",
    "    for playlist in mpd_slice['playlists']:\n",
    "        data_playlists_test.append([playlist.get(col, '') for col in playlist_test_col])\n",
    "        for track in playlist['tracks']:\n",
    "            playlists_test.append([playlist['pid'], track['track_uri'], track['pos']])\n",
    "            if track['track_uri'] not in tracks:\n",
    "                data_tracks.append([track[col] for col in tracks_col])\n",
    "                tracks.add(track['track_uri'])\n",
    "\n",
    "                \n",
    "    df_playlists_info = pd.DataFrame(data_playlists, columns=playlist_col)\n",
    "    df_playlists_info['collaborative'] = df_playlists_info['collaborative'].map({'false': False, 'true': True})\n",
    "\n",
    "    df_tracks = pd.DataFrame(data_tracks, columns=tracks_col)\n",
    "    df_tracks['tid'] = df_tracks.index\n",
    "\n",
    "    track_uri2tid = df_tracks.set_index('track_uri').tid\n",
    "\n",
    "    df_playlists = pd.DataFrame(playlists, columns=['pid', 'tid', 'pos'])\n",
    "    df_playlists.tid = df_playlists.tid.map(track_uri2tid)\n",
    "\n",
    "    df_playlists_test_info = pd.DataFrame(data_playlists_test, columns=playlist_test_col)\n",
    "\n",
    "    df_playlists_test = pd.DataFrame(playlists_test, columns=['pid', 'tid', 'pos'])\n",
    "    df_playlists_test.tid = df_playlists_test.tid.map(track_uri2tid)\n",
    "\n",
    "    df_tracks.to_hdf('df_data/df_tracks.hdf', key=\"abc\")\n",
    "    df_playlists.to_hdf('df_data/df_playlists.hdf', key=\"abc\")\n",
    "    df_playlists_info.to_hdf('df_data/df_playlists_info.hdf', key=\"abc\")\n",
    "    df_playlists_test.to_hdf('df_data/df_playlists_test.hdf', key=\"abc\")\n",
    "    df_playlists_test_info.to_hdf('df_data/df_playlists_test_info.hdf', key=\"abc\")"
   ]
  },
  {
   "cell_type": "code",
   "execution_count": 4,
   "metadata": {},
   "outputs": [
    {
     "ename": "JSONDecodeError",
     "evalue": "Unexpected UTF-8 BOM (decode using utf-8-sig): line 1 column 1 (char 0)",
     "output_type": "error",
     "traceback": [
      "\u001b[0;31m---------------------------------------------------------------------------\u001b[0m",
      "\u001b[0;31mJSONDecodeError\u001b[0m                           Traceback (most recent call last)",
      "Cell \u001b[0;32mIn[4], line 1\u001b[0m\n\u001b[0;32m----> 1\u001b[0m \u001b[43mcreate_df_data\u001b[49m\u001b[43m(\u001b[49m\u001b[43m)\u001b[49m\n",
      "Cell \u001b[0;32mIn[3], line 29\u001b[0m, in \u001b[0;36mcreate_df_data\u001b[0;34m()\u001b[0m\n\u001b[1;32m     26\u001b[0m js \u001b[38;5;241m=\u001b[39m f\u001b[38;5;241m.\u001b[39mread()\n\u001b[1;32m     27\u001b[0m f\u001b[38;5;241m.\u001b[39mclose()\n\u001b[0;32m---> 29\u001b[0m mpd_slice \u001b[38;5;241m=\u001b[39m \u001b[43mjson\u001b[49m\u001b[38;5;241;43m.\u001b[39;49m\u001b[43mloads\u001b[49m\u001b[43m(\u001b[49m\u001b[43mjs\u001b[49m\u001b[43m)\u001b[49m\n\u001b[1;32m     31\u001b[0m \u001b[38;5;28;01mfor\u001b[39;00m playlist \u001b[38;5;129;01min\u001b[39;00m mpd_slice[\u001b[38;5;124m'\u001b[39m\u001b[38;5;124mplaylists\u001b[39m\u001b[38;5;124m'\u001b[39m]:\n\u001b[1;32m     32\u001b[0m     \u001b[38;5;66;03m#index the playlist manually since we didn't download them all\u001b[39;00m\n\u001b[1;32m     33\u001b[0m     playlist[\u001b[38;5;124m'\u001b[39m\u001b[38;5;124mpid\u001b[39m\u001b[38;5;124m'\u001b[39m] \u001b[38;5;241m=\u001b[39m i\n",
      "File \u001b[0;32m~/.pyenv/versions/3.10.12/lib/python3.10/json/__init__.py:335\u001b[0m, in \u001b[0;36mloads\u001b[0;34m(s, cls, object_hook, parse_float, parse_int, parse_constant, object_pairs_hook, **kw)\u001b[0m\n\u001b[1;32m    333\u001b[0m \u001b[38;5;28;01mif\u001b[39;00m \u001b[38;5;28misinstance\u001b[39m(s, \u001b[38;5;28mstr\u001b[39m):\n\u001b[1;32m    334\u001b[0m     \u001b[38;5;28;01mif\u001b[39;00m s\u001b[38;5;241m.\u001b[39mstartswith(\u001b[38;5;124m'\u001b[39m\u001b[38;5;130;01m\\ufeff\u001b[39;00m\u001b[38;5;124m'\u001b[39m):\n\u001b[0;32m--> 335\u001b[0m         \u001b[38;5;28;01mraise\u001b[39;00m JSONDecodeError(\u001b[38;5;124m\"\u001b[39m\u001b[38;5;124mUnexpected UTF-8 BOM (decode using utf-8-sig)\u001b[39m\u001b[38;5;124m\"\u001b[39m,\n\u001b[1;32m    336\u001b[0m                               s, \u001b[38;5;241m0\u001b[39m)\n\u001b[1;32m    337\u001b[0m \u001b[38;5;28;01melse\u001b[39;00m:\n\u001b[1;32m    338\u001b[0m     \u001b[38;5;28;01mif\u001b[39;00m \u001b[38;5;129;01mnot\u001b[39;00m \u001b[38;5;28misinstance\u001b[39m(s, (\u001b[38;5;28mbytes\u001b[39m, \u001b[38;5;28mbytearray\u001b[39m)):\n",
      "\u001b[0;31mJSONDecodeError\u001b[0m: Unexpected UTF-8 BOM (decode using utf-8-sig): line 1 column 1 (char 0)"
     ]
    }
   ],
   "source": [
    "create_df_data()"
   ]
  }
 ],
 "metadata": {
  "kernelspec": {
   "display_name": "csci5123-proj",
   "language": "python",
   "name": "python3"
  },
  "language_info": {
   "codemirror_mode": {
    "name": "ipython",
    "version": 3
   },
   "file_extension": ".py",
   "mimetype": "text/x-python",
   "name": "python",
   "nbconvert_exporter": "python",
   "pygments_lexer": "ipython3",
   "version": "3.10.12"
  },
  "toc": {
   "nav_menu": {},
   "number_sections": true,
   "sideBar": true,
   "skip_h1_title": false,
   "title_cell": "Table of Contents",
   "title_sidebar": "Contents",
   "toc_cell": false,
   "toc_position": {},
   "toc_section_display": true,
   "toc_window_display": false
  }
 },
 "nbformat": 4,
 "nbformat_minor": 2
}
