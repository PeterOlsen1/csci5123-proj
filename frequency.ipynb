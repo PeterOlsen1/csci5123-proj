{
 "cells": [
  {
   "cell_type": "markdown",
   "id": "8f32ef45",
   "metadata": {},
   "source": [
    "# Frequency reocmmneder\n",
    "\n",
    "This file contains a system that recommends songs based on their co-occurrence.\n",
    "\n",
    "This can be run any time after json_to_dataframe.ipynb"
   ]
  },
  {
   "cell_type": "code",
   "execution_count": 2,
   "id": "d092f06b",
   "metadata": {},
   "outputs": [],
   "source": [
    "import pandas as pd\n",
    "from tqdm import tqdm\n",
    "import json"
   ]
  },
  {
   "cell_type": "code",
   "execution_count": 2,
   "id": "87b3639d",
   "metadata": {},
   "outputs": [
    {
     "name": "stderr",
     "output_type": "stream",
     "text": [
      "100%|██████████| 14000/14000 [00:39<00:00, 357.06it/s]\n"
     ]
    }
   ],
   "source": [
    "playlist_info = pd.read_hdf('df_data/df_playlists_info.hdf')\n",
    "playlists = pd.read_hdf('df_data/df_playlists.hdf')\n",
    "playlist_groups = playlists.groupby('pid')\n",
    "tracks = pd.read_hdf('df_data/df_tracks.hdf')\n",
    "\n",
    "# create track occurrences dictionary\n",
    "track_occurrences = {}\n",
    "for pid, group in tqdm(playlist_groups):\n",
    "    playlist_tracks = group['tid'].values\n",
    "\n",
    "    # create a frequnecy table for each innner track\n",
    "    for tid in playlist_tracks:\n",
    "        if tid not in track_occurrences:\n",
    "            track_occurrences[tid] = {}\n",
    "            for track in playlist_tracks:\n",
    "                if track == tid:\n",
    "                    continue\n",
    "\n",
    "                track_occurrences[tid][track] = 1\n",
    "        else:\n",
    "            for track in playlist_tracks:\n",
    "                if track == tid:\n",
    "                    continue\n",
    "\n",
    "                if track not in track_occurrences[tid]:\n",
    "                    track_occurrences[tid][track] = 1\n",
    "                else:\n",
    "                    track_occurrences[tid][track] += 1"
   ]
  },
  {
   "cell_type": "code",
   "execution_count": null,
   "id": "ea6ea7f3",
   "metadata": {},
   "outputs": [
    {
     "name": "stderr",
     "output_type": "stream",
     "text": [
      "1000it [05:48,  2.87it/s]\n"
     ]
    }
   ],
   "source": [
    "def load_challenge_set():\n",
    "    f = open('challenge_set.json')\n",
    "    js = f.read()\n",
    "    f.close()\n",
    "    challenge_set = json.loads(js)\n",
    "    for playlist in challenge_set['playlists']:\n",
    "        playlist['tracks'] = list(map(lambda x: x['track_uri'], playlist['tracks']))\n",
    "    return challenge_set\n",
    "\n",
    "challenge_set = load_challenge_set()\n",
    "\n",
    "test_playlists = pd.read_hdf('df_data/df_playlists_test.hdf').groupby('pid')\n",
    "test_playlists_info = pd.read_hdf('df_data/df_playlists_test_info.hdf')\n",
    "track_frequency = playlists.groupby('tid').size().sort_values(ascending=False)\n",
    "\n",
    "\n",
    "fp = open('frequency_submission.hdf', 'w')\n",
    "for i, playlist in tqdm(enumerate(challenge_set['playlists'])):\n",
    "    playlist_tracks = playlist['tracks']\n",
    "\n",
    "    # playlist empty, this is bad but just recommend top 500 songs\n",
    "    if playlist['num_samples'] == 0:\n",
    "        top_tids = track_frequency.head(500).index\n",
    "        top_uris = []\n",
    "        for tid in top_tids:\n",
    "            track_uri = tracks[tracks['tid'] == tid]['track_uri'].values[0]\n",
    "            top_uris.append(track_uri)\n",
    "        fp.write(str(i) +  ', '.join(top_uris) + '\\n')\n",
    "        continue\n",
    "\n",
    "    # get the track occurrences for the playlist\n",
    "    track_occurrences_playlist = {}\n",
    "    for track in playlist_tracks:\n",
    "        try:\n",
    "            tid = tracks[tracks['track_uri'] == track]['tid'].values[0]\n",
    "        except:\n",
    "            continue\n",
    "\n",
    "        if tid in track_occurrences:\n",
    "            for inner_tid, count in track_occurrences[tid].items():\n",
    "                if inner_tid not in track_occurrences_playlist:\n",
    "                    track_occurrences_playlist[inner_tid] = count\n",
    "                else:\n",
    "                    track_occurrences_playlist[inner_tid] += count\n",
    "    \n",
    "    items = list(track_occurrences_playlist.items())\n",
    "    # sort the track occurrences by count\n",
    "    sorted_occurrences = sorted(items[:500], key=lambda x: x[1], reverse=True)\n",
    "\n",
    "    top_tids = list(map(lambda x: x[0], sorted_occurrences))\n",
    "    top_uris = []\n",
    "    for tid in top_tids:\n",
    "        track_uri = tracks[tracks['tid'] == tid]['track_uri'].values[0]\n",
    "        top_uris.append(track_uri)\n",
    "    \n",
    "    fp.write(str(i) + ', ' +  ', '.join(top_uris[:500]) + '\\n')\n",
    "\n",
    "fp.close()\n"
   ]
  }
 ],
 "metadata": {
  "kernelspec": {
   "display_name": "csci5123-proj",
   "language": "python",
   "name": "python3"
  },
  "language_info": {
   "codemirror_mode": {
    "name": "ipython",
    "version": 3
   },
   "file_extension": ".py",
   "mimetype": "text/x-python",
   "name": "python",
   "nbconvert_exporter": "python",
   "pygments_lexer": "ipython3",
   "version": "3.10.12"
  }
 },
 "nbformat": 4,
 "nbformat_minor": 5
}
