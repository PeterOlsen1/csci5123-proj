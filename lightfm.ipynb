{
 "cells": [
  {
   "cell_type": "code",
   "execution_count": 17,
   "metadata": {
    "ExecuteTime": {
     "end_time": "2018-07-01T15:18:18.905289Z",
     "start_time": "2018-07-01T15:18:18.899944Z"
    }
   },
   "outputs": [],
   "source": [
    "import os\n",
    "os.environ['OPENBLAS_NUM_THREADS'] = '1'\n",
    "os.environ['OMP_NUM_THREADS'] = '1'"
   ]
  },
  {
   "cell_type": "code",
   "execution_count": null,
   "metadata": {
    "ExecuteTime": {
     "end_time": "2018-07-01T15:18:19.302277Z",
     "start_time": "2018-07-01T15:18:18.907606Z"
    }
   },
   "outputs": [
    {
     "name": "stderr",
     "output_type": "stream",
     "text": [
      "/Users/peterolsen/.pyenv/versions/csci5123-proj/lib/python3.10/site-packages/lightfm/_lightfm_fast.py:9: UserWarning: LightFM was compiled without OpenMP support. Only a single thread will be used.\n",
      "  warnings.warn(\n"
     ]
    }
   ],
   "source": [
    "import os\n",
    "import json\n",
    "import joblib\n",
    "\n",
    "import numpy as np\n",
    "import pandas as pd\n",
    "import scipy.sparse as sp\n",
    "from sklearn.preprocessing import LabelEncoder\n",
    "\n",
    "from lightfm import LightFM"
   ]
  },
  {
   "cell_type": "code",
   "execution_count": null,
   "metadata": {},
   "outputs": [],
   "source": [
    "### FILL IN MISSING CODE FROM https://github.com/dmitryhd/lightfm\n",
    "\n",
    "CYTHON_DTYPE = np.float32\n",
    "\n",
    "class LightFMWrapper(LightFM):\n",
    "    def __init__(self, model):\n",
    "        self.model = model\n",
    "\n",
    "    @staticmethod\n",
    "    def _to_cython_dtype(mat):\n",
    "        if mat.dtype != CYTHON_DTYPE:\n",
    "            return mat.astype(CYTHON_DTYPE)\n",
    "        else:\n",
    "            return mat\n",
    "\n",
    "    def _construct_item_features(self, n_items: int, item_features) -> sp.csr_matrix:\n",
    "        # TODO: mb. merge with user features\n",
    "        if item_features is None:\n",
    "            item_features = sp.identity(n_items, dtype=CYTHON_DTYPE, format='csr')\n",
    "        else:\n",
    "            item_features = item_features.tocsr()\n",
    "\n",
    "        if n_items > item_features.shape[0]:\n",
    "            raise Exception('Number of item feature rows does not equal the number of items')\n",
    "\n",
    "        if self.item_embeddings is not None:\n",
    "            if not self.item_embeddings.shape[0] >= item_features.shape[1]:\n",
    "                raise ValueError(\n",
    "                    'The item feature matrix specifies more features than there are estimated '\n",
    "                    'feature embeddings: {} vs {}.'.format(self.item_embeddings.shape[0], item_features.shape[1])\n",
    "                )\n",
    "\n",
    "        item_features = self._to_cython_dtype(item_features)\n",
    "        return item_features\n",
    "    \n",
    "def _batch_setup(model: LightFMWrapper, item_chunks, item_features, user_features, n_process: int=1):\n",
    "\n",
    "    # global _item_repr, _user_repr\n",
    "    # global _item_repr_biases, _user_repr_biases\n",
    "    # global _pool\n",
    "    # global _item_chunks\n",
    "\n",
    "    if item_features is None:\n",
    "        n_items = len(model.item_biases)\n",
    "        item_features = sp.identity(n_items, dtype=CYTHON_DTYPE, format='csr')\n",
    "\n",
    "    if user_features is None:\n",
    "        n_users = len(model.user_biases)\n",
    "        user_features = sp.identity(n_users, dtype=CYTHON_DTYPE, format='csr')\n",
    "\n",
    "    n_users = user_features.shape[0]\n",
    "    user_features = model._construct_user_features(n_users, user_features)\n",
    "    _user_repr, _user_repr_biases = _precompute_representation(\n",
    "        features=user_features,\n",
    "        feature_embeddings=model.user_embeddings,\n",
    "        feature_biases=model.user_biases,\n",
    "    )\n",
    "\n",
    "    n_items = item_features.shape[0]\n",
    "    item_features = model._construct_item_features(n_items, item_features)\n",
    "    _item_repr, _item_repr_biases = _precompute_representation(\n",
    "        features=item_features,\n",
    "        feature_embeddings=model.item_embeddings,\n",
    "        feature_biases=model.item_biases,\n",
    "    )\n",
    "    _item_repr = _item_repr.T\n",
    "    _item_chunks = item_chunks\n",
    "    # _clean_pool()\n",
    "    # # Pool creation should go last\n",
    "    # if n_process > 1:\n",
    "    #     _pool = mp.Pool(processes=n_process)\n",
    "\n",
    "def _precompute_representation(features, feature_embeddings, feature_biases):\n",
    "    representation = features.dot(feature_embeddings)\n",
    "    representation_bias = features.dot(feature_biases)\n",
    "    return representation, representation_bias"
   ]
  },
  {
   "cell_type": "code",
   "execution_count": 19,
   "metadata": {
    "ExecuteTime": {
     "end_time": "2018-07-01T15:18:19.416728Z",
     "start_time": "2018-07-01T15:18:19.304010Z"
    }
   },
   "outputs": [
    {
     "name": "stdout",
     "output_type": "stream",
     "text": [
      "mkdir: cannot create directory ‘models’: File exists\n"
     ]
    }
   ],
   "source": [
    "!mkdir models"
   ]
  },
  {
   "cell_type": "code",
   "execution_count": 9,
   "metadata": {
    "ExecuteTime": {
     "end_time": "2018-07-01T15:18:24.568879Z",
     "start_time": "2018-07-01T15:18:19.418444Z"
    }
   },
   "outputs": [
    {
     "data": {
      "text/html": [
       "<div>\n",
       "<style scoped>\n",
       "    .dataframe tbody tr th:only-of-type {\n",
       "        vertical-align: middle;\n",
       "    }\n",
       "\n",
       "    .dataframe tbody tr th {\n",
       "        vertical-align: top;\n",
       "    }\n",
       "\n",
       "    .dataframe thead th {\n",
       "        text-align: right;\n",
       "    }\n",
       "</style>\n",
       "<table border=\"1\" class=\"dataframe\">\n",
       "  <thead>\n",
       "    <tr style=\"text-align: right;\">\n",
       "      <th></th>\n",
       "      <th>collaborative</th>\n",
       "      <th>duration_ms</th>\n",
       "      <th>modified_at</th>\n",
       "      <th>name</th>\n",
       "      <th>num_albums</th>\n",
       "      <th>num_artists</th>\n",
       "      <th>num_edits</th>\n",
       "      <th>num_followers</th>\n",
       "      <th>num_tracks</th>\n",
       "      <th>pid</th>\n",
       "    </tr>\n",
       "  </thead>\n",
       "  <tbody>\n",
       "    <tr>\n",
       "      <th>0</th>\n",
       "      <td>False</td>\n",
       "      <td>4007017</td>\n",
       "      <td>1470355200</td>\n",
       "      <td>Funk</td>\n",
       "      <td>15</td>\n",
       "      <td>11</td>\n",
       "      <td>4</td>\n",
       "      <td>1</td>\n",
       "      <td>16</td>\n",
       "      <td>10000</td>\n",
       "    </tr>\n",
       "    <tr>\n",
       "      <th>1</th>\n",
       "      <td>False</td>\n",
       "      <td>5823244</td>\n",
       "      <td>1412985600</td>\n",
       "      <td>Childhood</td>\n",
       "      <td>19</td>\n",
       "      <td>14</td>\n",
       "      <td>3</td>\n",
       "      <td>1</td>\n",
       "      <td>28</td>\n",
       "      <td>10001</td>\n",
       "    </tr>\n",
       "    <tr>\n",
       "      <th>2</th>\n",
       "      <td>False</td>\n",
       "      <td>4891462</td>\n",
       "      <td>1421971200</td>\n",
       "      <td>Old Country</td>\n",
       "      <td>19</td>\n",
       "      <td>12</td>\n",
       "      <td>3</td>\n",
       "      <td>1</td>\n",
       "      <td>23</td>\n",
       "      <td>10002</td>\n",
       "    </tr>\n",
       "    <tr>\n",
       "      <th>3</th>\n",
       "      <td>False</td>\n",
       "      <td>3498401</td>\n",
       "      <td>1492646400</td>\n",
       "      <td>april showers</td>\n",
       "      <td>14</td>\n",
       "      <td>14</td>\n",
       "      <td>6</td>\n",
       "      <td>1</td>\n",
       "      <td>14</td>\n",
       "      <td>10003</td>\n",
       "    </tr>\n",
       "    <tr>\n",
       "      <th>4</th>\n",
       "      <td>False</td>\n",
       "      <td>8765977</td>\n",
       "      <td>1496534400</td>\n",
       "      <td>DnB</td>\n",
       "      <td>21</td>\n",
       "      <td>14</td>\n",
       "      <td>6</td>\n",
       "      <td>1</td>\n",
       "      <td>31</td>\n",
       "      <td>10004</td>\n",
       "    </tr>\n",
       "    <tr>\n",
       "      <th>...</th>\n",
       "      <td>...</td>\n",
       "      <td>...</td>\n",
       "      <td>...</td>\n",
       "      <td>...</td>\n",
       "      <td>...</td>\n",
       "      <td>...</td>\n",
       "      <td>...</td>\n",
       "      <td>...</td>\n",
       "      <td>...</td>\n",
       "      <td>...</td>\n",
       "    </tr>\n",
       "    <tr>\n",
       "      <th>1995</th>\n",
       "      <td>False</td>\n",
       "      <td>9917901</td>\n",
       "      <td>1507852800</td>\n",
       "      <td>old</td>\n",
       "      <td>40</td>\n",
       "      <td>36</td>\n",
       "      <td>8</td>\n",
       "      <td>1</td>\n",
       "      <td>41</td>\n",
       "      <td>995</td>\n",
       "    </tr>\n",
       "    <tr>\n",
       "      <th>1996</th>\n",
       "      <td>False</td>\n",
       "      <td>3699248</td>\n",
       "      <td>1479254400</td>\n",
       "      <td>Daze</td>\n",
       "      <td>17</td>\n",
       "      <td>15</td>\n",
       "      <td>13</td>\n",
       "      <td>1</td>\n",
       "      <td>17</td>\n",
       "      <td>996</td>\n",
       "    </tr>\n",
       "    <tr>\n",
       "      <th>1997</th>\n",
       "      <td>False</td>\n",
       "      <td>27538723</td>\n",
       "      <td>1410307200</td>\n",
       "      <td>rap</td>\n",
       "      <td>98</td>\n",
       "      <td>82</td>\n",
       "      <td>63</td>\n",
       "      <td>1</td>\n",
       "      <td>119</td>\n",
       "      <td>997</td>\n",
       "    </tr>\n",
       "    <tr>\n",
       "      <th>1998</th>\n",
       "      <td>False</td>\n",
       "      <td>24950143</td>\n",
       "      <td>1507939200</td>\n",
       "      <td>Country</td>\n",
       "      <td>75</td>\n",
       "      <td>40</td>\n",
       "      <td>37</td>\n",
       "      <td>1</td>\n",
       "      <td>108</td>\n",
       "      <td>998</td>\n",
       "    </tr>\n",
       "    <tr>\n",
       "      <th>1999</th>\n",
       "      <td>False</td>\n",
       "      <td>9065801</td>\n",
       "      <td>1507766400</td>\n",
       "      <td>thinking of you</td>\n",
       "      <td>43</td>\n",
       "      <td>37</td>\n",
       "      <td>34</td>\n",
       "      <td>1</td>\n",
       "      <td>44</td>\n",
       "      <td>999</td>\n",
       "    </tr>\n",
       "  </tbody>\n",
       "</table>\n",
       "<p>2000 rows × 10 columns</p>\n",
       "</div>"
      ],
      "text/plain": [
       "      collaborative  duration_ms  modified_at             name  num_albums  \\\n",
       "0             False      4007017   1470355200             Funk          15   \n",
       "1             False      5823244   1412985600        Childhood          19   \n",
       "2             False      4891462   1421971200      Old Country          19   \n",
       "3             False      3498401   1492646400    april showers          14   \n",
       "4             False      8765977   1496534400              DnB          21   \n",
       "...             ...          ...          ...              ...         ...   \n",
       "1995          False      9917901   1507852800              old          40   \n",
       "1996          False      3699248   1479254400             Daze          17   \n",
       "1997          False     27538723   1410307200              rap          98   \n",
       "1998          False     24950143   1507939200          Country          75   \n",
       "1999          False      9065801   1507766400  thinking of you          43   \n",
       "\n",
       "      num_artists  num_edits  num_followers  num_tracks    pid  \n",
       "0              11          4              1          16  10000  \n",
       "1              14          3              1          28  10001  \n",
       "2              12          3              1          23  10002  \n",
       "3              14          6              1          14  10003  \n",
       "4              14          6              1          31  10004  \n",
       "...           ...        ...            ...         ...    ...  \n",
       "1995           36          8              1          41    995  \n",
       "1996           15         13              1          17    996  \n",
       "1997           82         63              1         119    997  \n",
       "1998           40         37              1         108    998  \n",
       "1999           37         34              1          44    999  \n",
       "\n",
       "[2000 rows x 10 columns]"
      ]
     },
     "metadata": {},
     "output_type": "display_data"
    }
   ],
   "source": [
    "# Load all datasets using the function\n",
    "df_tracks = pd.read_hdf('df_data/df_tracks.hdf', 'abc')\n",
    "df_playlists = pd.read_hdf('df_data/df_playlists.hdf', 'abc')\n",
    "df_playlists_info = pd.read_hdf('df_data/df_playlists_info.hdf', 'abc')\n",
    "df_playlists_test = pd.read_hdf('df_data/df_playlists_test.hdf', 'abc')\n",
    "df_playlists_test_info = pd.read_hdf('df_data/df_playlists_test_info.hdf', 'abc')\n",
    "\n",
    "# display(df_tracks)\n",
    "display(df_playlists_info)"
   ]
  },
  {
   "cell_type": "code",
   "execution_count": null,
   "metadata": {
    "ExecuteTime": {
     "end_time": "2018-07-01T15:18:26.017140Z",
     "start_time": "2018-07-01T15:18:24.571608Z"
    }
   },
   "outputs": [],
   "source": [
    "train = pd.read_hdf('df_data/train.hdf')\n",
    "val = pd.read_hdf('df_data/val1.hdf')\n",
    "val1_pids = joblib.load('df_data/val1_pids.pkl')"
   ]
  },
  {
   "cell_type": "code",
   "execution_count": 6,
   "metadata": {
    "ExecuteTime": {
     "end_time": "2018-07-01T15:19:30.909951Z",
     "start_time": "2018-07-01T15:18:26.018943Z"
    }
   },
   "outputs": [],
   "source": [
    "user_seen = train.groupby('pid').tid.apply(set).to_dict()\n",
    "val_tracks = val.groupby('pid').tid.apply(set).to_dict()"
   ]
  },
  {
   "cell_type": "code",
   "execution_count": 7,
   "metadata": {
    "ExecuteTime": {
     "end_time": "2018-07-01T15:19:30.943469Z",
     "start_time": "2018-07-01T15:19:30.912781Z"
    }
   },
   "outputs": [],
   "source": [
    "config = {\n",
    "    'num_playlists': df_playlists_test_info.pid.max() + 1,\n",
    "    'num_tracks': df_tracks.tid.max() + 1,\n",
    "}"
   ]
  },
  {
   "cell_type": "code",
   "execution_count": 8,
   "metadata": {
    "ExecuteTime": {
     "end_time": "2018-07-01T15:19:31.867927Z",
     "start_time": "2018-07-01T15:19:30.946052Z"
    }
   },
   "outputs": [],
   "source": [
    "X_train = sp.coo_matrix(\n",
    "    (np.ones(len(train)), (train.pid, train.tid)),\n",
    "    shape=(config['num_playlists'], config['num_tracks'])\n",
    ")"
   ]
  },
  {
   "cell_type": "code",
   "execution_count": 16,
   "metadata": {
    "ExecuteTime": {
     "end_time": "2018-07-01T15:19:31.872173Z",
     "start_time": "2018-07-01T15:19:31.869738Z"
    }
   },
   "outputs": [
    {
     "name": "stdout",
     "output_type": "stream",
     "text": [
      "Empty DataFrame\n",
      "Columns: [Unnamed: 0.1, Unnamed: 0, pid, tid, pos]\n",
      "Index: []\n"
     ]
    }
   ],
   "source": [
    "config['model_path'] = 'models/lightfm_model.pkl'\n",
    "\n",
    "print(val)"
   ]
  },
  {
   "cell_type": "code",
   "execution_count": 12,
   "metadata": {
    "ExecuteTime": {
     "end_time": "2018-07-01T15:30:18.392092Z",
     "start_time": "2018-07-01T15:19:31.873766Z"
    }
   },
   "outputs": [
    {
     "ename": "ValueError",
     "evalue": "Expected the number of user IDs (0) to equal the number of item IDs (57884)",
     "output_type": "error",
     "traceback": [
      "\u001b[0;31m---------------------------------------------------------------------------\u001b[0m",
      "\u001b[0;31mValueError\u001b[0m                                Traceback (most recent call last)",
      "Cell \u001b[0;32mIn[12], line 16\u001b[0m\n\u001b[1;32m      4\u001b[0m \u001b[38;5;28;01mfor\u001b[39;00m i \u001b[38;5;129;01min\u001b[39;00m \u001b[38;5;28mrange\u001b[39m(\u001b[38;5;241m60\u001b[39m):\n\u001b[1;32m      5\u001b[0m     \n\u001b[1;32m      6\u001b[0m     \u001b[38;5;66;03m# model.fit_partial(X_train, epochs=5, num_threads=8)\u001b[39;00m\n\u001b[0;32m   (...)\u001b[0m\n\u001b[1;32m     12\u001b[0m     \u001b[38;5;66;03m# res = model.batch_predict(chunk_id=0, user_ids=val1_pids, top_k=600)\u001b[39;00m\n\u001b[1;32m     13\u001b[0m     \u001b[38;5;66;03m# model.batch_cleanup()\u001b[39;00m\n\u001b[1;32m     15\u001b[0m     model\u001b[38;5;241m.\u001b[39mfit(X_train, epochs\u001b[38;5;241m=\u001b[39m\u001b[38;5;241m5\u001b[39m, num_threads\u001b[38;5;241m=\u001b[39m\u001b[38;5;241m6\u001b[39m)\n\u001b[0;32m---> 16\u001b[0m     res \u001b[38;5;241m=\u001b[39m \u001b[43mmodel\u001b[49m\u001b[38;5;241;43m.\u001b[39;49m\u001b[43mpredict\u001b[49m\u001b[43m(\u001b[49m\u001b[43muser_ids\u001b[49m\u001b[38;5;241;43m=\u001b[39;49m\u001b[43mval1_pids\u001b[49m\u001b[43m,\u001b[49m\u001b[43m \u001b[49m\u001b[43mitem_ids\u001b[49m\u001b[38;5;241;43m=\u001b[39;49m\u001b[43mnp\u001b[49m\u001b[38;5;241;43m.\u001b[39;49m\u001b[43marange\u001b[49m\u001b[43m(\u001b[49m\u001b[43mconfig\u001b[49m\u001b[43m[\u001b[49m\u001b[38;5;124;43m'\u001b[39;49m\u001b[38;5;124;43mnum_tracks\u001b[39;49m\u001b[38;5;124;43m'\u001b[39;49m\u001b[43m]\u001b[49m\u001b[43m)\u001b[49m\u001b[43m)\u001b[49m\n\u001b[1;32m     18\u001b[0m     score \u001b[38;5;241m=\u001b[39m []\n\u001b[1;32m     19\u001b[0m     \u001b[38;5;28;01mfor\u001b[39;00m pid \u001b[38;5;129;01min\u001b[39;00m val1_pids:\n",
      "File \u001b[0;32m~/.local/share/virtualenvs/homework-01-PeterOlsen1-fJR24Aby/lib/python3.10/site-packages/lightfm/lightfm.py:831\u001b[0m, in \u001b[0;36mLightFM.predict\u001b[0;34m(self, user_ids, item_ids, item_features, user_features, num_threads)\u001b[0m\n\u001b[1;32m    828\u001b[0m     item_ids \u001b[38;5;241m=\u001b[39m np\u001b[38;5;241m.\u001b[39marray(item_ids, dtype\u001b[38;5;241m=\u001b[39mnp\u001b[38;5;241m.\u001b[39mint32)\n\u001b[1;32m    830\u001b[0m \u001b[38;5;28;01mif\u001b[39;00m \u001b[38;5;28mlen\u001b[39m(user_ids) \u001b[38;5;241m!=\u001b[39m \u001b[38;5;28mlen\u001b[39m(item_ids):\n\u001b[0;32m--> 831\u001b[0m     \u001b[38;5;28;01mraise\u001b[39;00m \u001b[38;5;167;01mValueError\u001b[39;00m(\n\u001b[1;32m    832\u001b[0m         \u001b[38;5;124mf\u001b[39m\u001b[38;5;124m\"\u001b[39m\u001b[38;5;124mExpected the number of user IDs (\u001b[39m\u001b[38;5;132;01m{\u001b[39;00m\u001b[38;5;28mlen\u001b[39m(user_ids)\u001b[38;5;132;01m}\u001b[39;00m\u001b[38;5;124m) to equal the number\u001b[39m\u001b[38;5;124m\"\u001b[39m\n\u001b[1;32m    833\u001b[0m         \u001b[38;5;124mf\u001b[39m\u001b[38;5;124m\"\u001b[39m\u001b[38;5;124m of item IDs (\u001b[39m\u001b[38;5;132;01m{\u001b[39;00m\u001b[38;5;28mlen\u001b[39m(item_ids)\u001b[38;5;132;01m}\u001b[39;00m\u001b[38;5;124m)\u001b[39m\u001b[38;5;124m\"\u001b[39m\n\u001b[1;32m    834\u001b[0m     )\n\u001b[1;32m    836\u001b[0m \u001b[38;5;28;01mif\u001b[39;00m user_ids\u001b[38;5;241m.\u001b[39mdtype \u001b[38;5;241m!=\u001b[39m np\u001b[38;5;241m.\u001b[39mint32:\n\u001b[1;32m    837\u001b[0m     user_ids \u001b[38;5;241m=\u001b[39m user_ids\u001b[38;5;241m.\u001b[39mastype(np\u001b[38;5;241m.\u001b[39mint32)\n",
      "\u001b[0;31mValueError\u001b[0m: Expected the number of user IDs (0) to equal the number of item IDs (57884)"
     ]
    }
   ],
   "source": [
    "model = LightFM(no_components=200, loss='warp', learning_rate=0.02, max_sampled=400, random_state=1, user_alpha=1e-05)\n",
    "\n",
    "best_score = 0\n",
    "for i in range(60):\n",
    "    \n",
    "    # model.fit_partial(X_train, epochs=5, num_threads=8)\n",
    "\n",
    "    # model.batch_setup(\n",
    "    #     item_chunks={0: np.arange(config['num_tracks'])},\n",
    "    #     n_process=50, \n",
    "    # )\n",
    "    # res = model.batch_predict(chunk_id=0, user_ids=val1_pids, top_k=600)\n",
    "    # model.batch_cleanup()\n",
    "\n",
    "    model.fit(X_train, epochs=5, num_threads=6)\n",
    "    res = model.predict(user_ids=val1_pids, item_ids=np.arange(config['num_tracks']))\n",
    "    \n",
    "    score = []\n",
    "    for pid in val1_pids:\n",
    "        tracks_t = val_tracks[pid]\n",
    "        tracks = [i for i in res[pid][0] if i not in user_seen.get(pid, set())][:len(tracks_t)]\n",
    "        guess = np.sum([i in tracks_t for i in tracks])\n",
    "        score.append(guess / len(tracks_t))\n",
    "    \n",
    "    score = np.mean(score)\n",
    "    print(score)\n",
    "    if score > best_score:\n",
    "        joblib.dump(model, open(config['model_path'], 'wb'))\n",
    "        best_score = score"
   ]
  },
  {
   "cell_type": "code",
   "execution_count": null,
   "metadata": {},
   "outputs": [],
   "source": []
  }
 ],
 "metadata": {
  "kernelspec": {
   "display_name": "csci5123-proj",
   "language": "python",
   "name": "python3"
  },
  "language_info": {
   "codemirror_mode": {
    "name": "ipython",
    "version": 3
   },
   "file_extension": ".py",
   "mimetype": "text/x-python",
   "name": "python",
   "nbconvert_exporter": "python",
   "pygments_lexer": "ipython3",
   "version": "3.10.12"
  },
  "toc": {
   "nav_menu": {},
   "number_sections": true,
   "sideBar": true,
   "skip_h1_title": false,
   "title_cell": "Table of Contents",
   "title_sidebar": "Contents",
   "toc_cell": false,
   "toc_position": {},
   "toc_section_display": true,
   "toc_window_display": false
  }
 },
 "nbformat": 4,
 "nbformat_minor": 2
}
