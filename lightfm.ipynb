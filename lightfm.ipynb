{
 "cells": [
  {
   "cell_type": "code",
   "execution_count": 17,
   "metadata": {
    "ExecuteTime": {
     "end_time": "2018-07-01T15:18:18.905289Z",
     "start_time": "2018-07-01T15:18:18.899944Z"
    }
   },
   "outputs": [],
   "source": [
    "import os\n",
    "os.environ['OPENBLAS_NUM_THREADS'] = '1'\n",
    "os.environ['OMP_NUM_THREADS'] = '1'"
   ]
  },
  {
   "cell_type": "code",
   "execution_count": 24,
   "metadata": {
    "ExecuteTime": {
     "end_time": "2018-07-01T15:18:19.302277Z",
     "start_time": "2018-07-01T15:18:18.907606Z"
    }
   },
   "outputs": [],
   "source": [
    "import os\n",
    "import json\n",
    "import joblib\n",
    "\n",
    "import numpy as np\n",
    "import pandas as pd\n",
    "import scipy.sparse as sp\n",
    "from sklearn.preprocessing import LabelEncoder\n",
    "import h5py\n",
    "\n",
    "from lightfm import LightFM"
   ]
  },
  {
   "cell_type": "code",
   "execution_count": 19,
   "metadata": {
    "ExecuteTime": {
     "end_time": "2018-07-01T15:18:19.416728Z",
     "start_time": "2018-07-01T15:18:19.304010Z"
    }
   },
   "outputs": [
    {
     "name": "stdout",
     "output_type": "stream",
     "text": [
      "mkdir: cannot create directory ‘models’: File exists\n"
     ]
    }
   ],
   "source": [
    "!mkdir models"
   ]
  },
  {
   "cell_type": "code",
   "execution_count": 37,
   "metadata": {
    "ExecuteTime": {
     "end_time": "2018-07-01T15:18:24.568879Z",
     "start_time": "2018-07-01T15:18:19.418444Z"
    }
   },
   "outputs": [
    {
     "data": {
      "text/html": [
       "<div>\n",
       "<style scoped>\n",
       "    .dataframe tbody tr th:only-of-type {\n",
       "        vertical-align: middle;\n",
       "    }\n",
       "\n",
       "    .dataframe tbody tr th {\n",
       "        vertical-align: top;\n",
       "    }\n",
       "\n",
       "    .dataframe thead th {\n",
       "        text-align: right;\n",
       "    }\n",
       "</style>\n",
       "<table border=\"1\" class=\"dataframe\">\n",
       "  <thead>\n",
       "    <tr style=\"text-align: right;\">\n",
       "      <th></th>\n",
       "      <th>0</th>\n",
       "    </tr>\n",
       "  </thead>\n",
       "  <tbody>\n",
       "    <tr>\n",
       "      <th>0</th>\n",
       "      <td>abc</td>\n",
       "    </tr>\n",
       "  </tbody>\n",
       "</table>\n",
       "</div>"
      ],
      "text/plain": [
       "     0\n",
       "0  abc"
      ]
     },
     "metadata": {},
     "output_type": "display_data"
    }
   ],
   "source": [
    "def load_hdf_to_df(file_path, dataset_name):\n",
    "    with h5py.File(file_path, 'r') as f:\n",
    "        # print(f['abc'])\n",
    "        data = f[dataset_name]\n",
    "        df = pd.DataFrame(f)\n",
    "    return df\n",
    "\n",
    "# Load all datasets using the function\n",
    "df_tracks = load_hdf_to_df('df_data/df_tracks.hdf', 'abc')\n",
    "# df_playlists = load_hdf_to_df('df_data/df_playlists.hdf', 'df_playlists')\n",
    "# df_playlists_info = load_hdf_to_df('df_data/df_playlists_info.hdf', 'df_playlists_info')\n",
    "# df_playlists_test = load_hdf_to_df('df_data/df_playlists_test.hdf', 'df_playlists_test')\n",
    "# df_playlists_test_info = load_hdf_to_df('df_data/df_playlists_test_info.hdf', 'df_playlists_test_info')\n",
    "\n",
    "display(df_tracks)"
   ]
  },
  {
   "cell_type": "code",
   "execution_count": null,
   "metadata": {
    "ExecuteTime": {
     "end_time": "2018-07-01T15:18:26.017140Z",
     "start_time": "2018-07-01T15:18:24.571608Z"
    }
   },
   "outputs": [],
   "source": [
    "train = pd.read_hdf('df_data/train.hdf')\n",
    "val = pd.read_hdf('df_data/val1.hdf')\n",
    "val1_pids = joblib.load('df_data/val1_pids.pkl')"
   ]
  },
  {
   "cell_type": "code",
   "execution_count": 6,
   "metadata": {
    "ExecuteTime": {
     "end_time": "2018-07-01T15:19:30.909951Z",
     "start_time": "2018-07-01T15:18:26.018943Z"
    }
   },
   "outputs": [],
   "source": [
    "user_seen = train.groupby('pid').tid.apply(set).to_dict()\n",
    "val_tracks = val.groupby('pid').tid.apply(set).to_dict()"
   ]
  },
  {
   "cell_type": "code",
   "execution_count": 7,
   "metadata": {
    "ExecuteTime": {
     "end_time": "2018-07-01T15:19:30.943469Z",
     "start_time": "2018-07-01T15:19:30.912781Z"
    }
   },
   "outputs": [],
   "source": [
    "config = {\n",
    "    'num_playlists': df_playlists_test_info.pid.max() + 1,\n",
    "    'num_tracks': df_tracks.tid.max() + 1,\n",
    "}"
   ]
  },
  {
   "cell_type": "code",
   "execution_count": 8,
   "metadata": {
    "ExecuteTime": {
     "end_time": "2018-07-01T15:19:31.867927Z",
     "start_time": "2018-07-01T15:19:30.946052Z"
    }
   },
   "outputs": [],
   "source": [
    "X_train = sp.coo_matrix(\n",
    "    (np.ones(len(train)), (train.pid, train.tid)),\n",
    "    shape=(config['num_playlists'], config['num_tracks'])\n",
    ")"
   ]
  },
  {
   "cell_type": "code",
   "execution_count": 16,
   "metadata": {
    "ExecuteTime": {
     "end_time": "2018-07-01T15:19:31.872173Z",
     "start_time": "2018-07-01T15:19:31.869738Z"
    }
   },
   "outputs": [
    {
     "name": "stdout",
     "output_type": "stream",
     "text": [
      "Empty DataFrame\n",
      "Columns: [Unnamed: 0.1, Unnamed: 0, pid, tid, pos]\n",
      "Index: []\n"
     ]
    }
   ],
   "source": [
    "config['model_path'] = 'models/lightfm_model.pkl'\n",
    "\n",
    "print(val)"
   ]
  },
  {
   "cell_type": "code",
   "execution_count": 12,
   "metadata": {
    "ExecuteTime": {
     "end_time": "2018-07-01T15:30:18.392092Z",
     "start_time": "2018-07-01T15:19:31.873766Z"
    }
   },
   "outputs": [
    {
     "ename": "ValueError",
     "evalue": "Expected the number of user IDs (0) to equal the number of item IDs (57884)",
     "output_type": "error",
     "traceback": [
      "\u001b[0;31m---------------------------------------------------------------------------\u001b[0m",
      "\u001b[0;31mValueError\u001b[0m                                Traceback (most recent call last)",
      "Cell \u001b[0;32mIn[12], line 16\u001b[0m\n\u001b[1;32m      4\u001b[0m \u001b[38;5;28;01mfor\u001b[39;00m i \u001b[38;5;129;01min\u001b[39;00m \u001b[38;5;28mrange\u001b[39m(\u001b[38;5;241m60\u001b[39m):\n\u001b[1;32m      5\u001b[0m     \n\u001b[1;32m      6\u001b[0m     \u001b[38;5;66;03m# model.fit_partial(X_train, epochs=5, num_threads=8)\u001b[39;00m\n\u001b[0;32m   (...)\u001b[0m\n\u001b[1;32m     12\u001b[0m     \u001b[38;5;66;03m# res = model.batch_predict(chunk_id=0, user_ids=val1_pids, top_k=600)\u001b[39;00m\n\u001b[1;32m     13\u001b[0m     \u001b[38;5;66;03m# model.batch_cleanup()\u001b[39;00m\n\u001b[1;32m     15\u001b[0m     model\u001b[38;5;241m.\u001b[39mfit(X_train, epochs\u001b[38;5;241m=\u001b[39m\u001b[38;5;241m5\u001b[39m, num_threads\u001b[38;5;241m=\u001b[39m\u001b[38;5;241m6\u001b[39m)\n\u001b[0;32m---> 16\u001b[0m     res \u001b[38;5;241m=\u001b[39m \u001b[43mmodel\u001b[49m\u001b[38;5;241;43m.\u001b[39;49m\u001b[43mpredict\u001b[49m\u001b[43m(\u001b[49m\u001b[43muser_ids\u001b[49m\u001b[38;5;241;43m=\u001b[39;49m\u001b[43mval1_pids\u001b[49m\u001b[43m,\u001b[49m\u001b[43m \u001b[49m\u001b[43mitem_ids\u001b[49m\u001b[38;5;241;43m=\u001b[39;49m\u001b[43mnp\u001b[49m\u001b[38;5;241;43m.\u001b[39;49m\u001b[43marange\u001b[49m\u001b[43m(\u001b[49m\u001b[43mconfig\u001b[49m\u001b[43m[\u001b[49m\u001b[38;5;124;43m'\u001b[39;49m\u001b[38;5;124;43mnum_tracks\u001b[39;49m\u001b[38;5;124;43m'\u001b[39;49m\u001b[43m]\u001b[49m\u001b[43m)\u001b[49m\u001b[43m)\u001b[49m\n\u001b[1;32m     18\u001b[0m     score \u001b[38;5;241m=\u001b[39m []\n\u001b[1;32m     19\u001b[0m     \u001b[38;5;28;01mfor\u001b[39;00m pid \u001b[38;5;129;01min\u001b[39;00m val1_pids:\n",
      "File \u001b[0;32m~/.local/share/virtualenvs/homework-01-PeterOlsen1-fJR24Aby/lib/python3.10/site-packages/lightfm/lightfm.py:831\u001b[0m, in \u001b[0;36mLightFM.predict\u001b[0;34m(self, user_ids, item_ids, item_features, user_features, num_threads)\u001b[0m\n\u001b[1;32m    828\u001b[0m     item_ids \u001b[38;5;241m=\u001b[39m np\u001b[38;5;241m.\u001b[39marray(item_ids, dtype\u001b[38;5;241m=\u001b[39mnp\u001b[38;5;241m.\u001b[39mint32)\n\u001b[1;32m    830\u001b[0m \u001b[38;5;28;01mif\u001b[39;00m \u001b[38;5;28mlen\u001b[39m(user_ids) \u001b[38;5;241m!=\u001b[39m \u001b[38;5;28mlen\u001b[39m(item_ids):\n\u001b[0;32m--> 831\u001b[0m     \u001b[38;5;28;01mraise\u001b[39;00m \u001b[38;5;167;01mValueError\u001b[39;00m(\n\u001b[1;32m    832\u001b[0m         \u001b[38;5;124mf\u001b[39m\u001b[38;5;124m\"\u001b[39m\u001b[38;5;124mExpected the number of user IDs (\u001b[39m\u001b[38;5;132;01m{\u001b[39;00m\u001b[38;5;28mlen\u001b[39m(user_ids)\u001b[38;5;132;01m}\u001b[39;00m\u001b[38;5;124m) to equal the number\u001b[39m\u001b[38;5;124m\"\u001b[39m\n\u001b[1;32m    833\u001b[0m         \u001b[38;5;124mf\u001b[39m\u001b[38;5;124m\"\u001b[39m\u001b[38;5;124m of item IDs (\u001b[39m\u001b[38;5;132;01m{\u001b[39;00m\u001b[38;5;28mlen\u001b[39m(item_ids)\u001b[38;5;132;01m}\u001b[39;00m\u001b[38;5;124m)\u001b[39m\u001b[38;5;124m\"\u001b[39m\n\u001b[1;32m    834\u001b[0m     )\n\u001b[1;32m    836\u001b[0m \u001b[38;5;28;01mif\u001b[39;00m user_ids\u001b[38;5;241m.\u001b[39mdtype \u001b[38;5;241m!=\u001b[39m np\u001b[38;5;241m.\u001b[39mint32:\n\u001b[1;32m    837\u001b[0m     user_ids \u001b[38;5;241m=\u001b[39m user_ids\u001b[38;5;241m.\u001b[39mastype(np\u001b[38;5;241m.\u001b[39mint32)\n",
      "\u001b[0;31mValueError\u001b[0m: Expected the number of user IDs (0) to equal the number of item IDs (57884)"
     ]
    }
   ],
   "source": [
    "model = LightFM(no_components=200, loss='warp', learning_rate=0.02, max_sampled=400, random_state=1, user_alpha=1e-05)\n",
    "\n",
    "best_score = 0\n",
    "for i in range(60):\n",
    "    \n",
    "    # model.fit_partial(X_train, epochs=5, num_threads=8)\n",
    "\n",
    "    # model.batch_setup(\n",
    "    #     item_chunks={0: np.arange(config['num_tracks'])},\n",
    "    #     n_process=50, \n",
    "    # )\n",
    "    # res = model.batch_predict(chunk_id=0, user_ids=val1_pids, top_k=600)\n",
    "    # model.batch_cleanup()\n",
    "\n",
    "    model.fit(X_train, epochs=5, num_threads=6)\n",
    "    res = model.predict(user_ids=val1_pids, item_ids=np.arange(config['num_tracks']))\n",
    "    \n",
    "    score = []\n",
    "    for pid in val1_pids:\n",
    "        tracks_t = val_tracks[pid]\n",
    "        tracks = [i for i in res[pid][0] if i not in user_seen.get(pid, set())][:len(tracks_t)]\n",
    "        guess = np.sum([i in tracks_t for i in tracks])\n",
    "        score.append(guess / len(tracks_t))\n",
    "    \n",
    "    score = np.mean(score)\n",
    "    print(score)\n",
    "    if score > best_score:\n",
    "        joblib.dump(model, open(config['model_path'], 'wb'))\n",
    "        best_score = score"
   ]
  },
  {
   "cell_type": "code",
   "execution_count": null,
   "metadata": {},
   "outputs": [],
   "source": []
  }
 ],
 "metadata": {
  "kernelspec": {
   "display_name": "homework-01-PeterOlsen1-fJR24Aby",
   "language": "python",
   "name": "python3"
  },
  "language_info": {
   "codemirror_mode": {
    "name": "ipython",
    "version": 3
   },
   "file_extension": ".py",
   "mimetype": "text/x-python",
   "name": "python",
   "nbconvert_exporter": "python",
   "pygments_lexer": "ipython3",
   "version": "3.10.12"
  },
  "toc": {
   "nav_menu": {},
   "number_sections": true,
   "sideBar": true,
   "skip_h1_title": false,
   "title_cell": "Table of Contents",
   "title_sidebar": "Contents",
   "toc_cell": false,
   "toc_position": {},
   "toc_section_display": true,
   "toc_window_display": false
  }
 },
 "nbformat": 4,
 "nbformat_minor": 2
}
