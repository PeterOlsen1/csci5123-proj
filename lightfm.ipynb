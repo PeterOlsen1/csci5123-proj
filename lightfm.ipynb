{
 "cells": [
  {
   "cell_type": "code",
<<<<<<< HEAD
   "execution_count": 1,
=======
   "execution_count": 17,
>>>>>>> 1e0f6334d79e7e8e320ccee2372cf8953e8b3ac0
   "metadata": {
    "ExecuteTime": {
     "end_time": "2018-07-01T15:18:18.905289Z",
     "start_time": "2018-07-01T15:18:18.899944Z"
    }
   },
   "outputs": [],
   "source": [
    "import os\n",
    "os.environ['OPENBLAS_NUM_THREADS'] = '1'\n",
    "os.environ['OMP_NUM_THREADS'] = '1'"
   ]
  },
  {
   "cell_type": "code",
<<<<<<< HEAD
   "execution_count": 2,
=======
   "execution_count": 24,
>>>>>>> 1e0f6334d79e7e8e320ccee2372cf8953e8b3ac0
   "metadata": {
    "ExecuteTime": {
     "end_time": "2018-07-01T15:18:19.302277Z",
     "start_time": "2018-07-01T15:18:18.907606Z"
    }
   },
   "outputs": [],
   "source": [
    "import os\n",
    "import json\n",
    "import joblib\n",
    "\n",
    "import numpy as np\n",
    "import pandas as pd\n",
    "import scipy.sparse as sp\n",
    "from sklearn.preprocessing import LabelEncoder\n",
    "import h5py\n",
    "\n",
    "from lightfm import LightFM"
   ]
  },
  {
   "cell_type": "code",
<<<<<<< HEAD
   "execution_count": 4,
=======
   "execution_count": 19,
>>>>>>> 1e0f6334d79e7e8e320ccee2372cf8953e8b3ac0
   "metadata": {
    "ExecuteTime": {
     "end_time": "2018-07-01T15:18:19.416728Z",
     "start_time": "2018-07-01T15:18:19.304010Z"
    }
   },
   "outputs": [
    {
     "name": "stdout",
     "output_type": "stream",
     "text": [
      "mkdir: cannot create directory ‘models’: File exists\n"
     ]
    }
   ],
   "source": [
    "!mkdir models"
   ]
  },
  {
   "cell_type": "code",
<<<<<<< HEAD
   "execution_count": 9,
=======
   "execution_count": 37,
>>>>>>> 1e0f6334d79e7e8e320ccee2372cf8953e8b3ac0
   "metadata": {
    "ExecuteTime": {
     "end_time": "2018-07-01T15:18:24.568879Z",
     "start_time": "2018-07-01T15:18:19.418444Z"
    }
   },
<<<<<<< HEAD
   "outputs": [],
   "source": [
    "# Load all datasets using the function\n",
    "df_tracks = pd.read_hdf('df_data/df_tracks.hdf')\n",
    "df_playlists = pd.read_hdf('df_data/df_playlists.hdf')\n",
    "df_playlists_info = pd.read_hdf('df_data/df_playlists_info.hdf')\n",
    "df_playlists_test = pd.read_hdf('df_data/df_playlists_test.hdf')\n",
    "df_playlists_test_info = pd.read_hdf('df_data/df_playlists_test_info.hdf')"
=======
   "outputs": [
    {
     "data": {
      "text/html": [
       "<div>\n",
       "<style scoped>\n",
       "    .dataframe tbody tr th:only-of-type {\n",
       "        vertical-align: middle;\n",
       "    }\n",
       "\n",
       "    .dataframe tbody tr th {\n",
       "        vertical-align: top;\n",
       "    }\n",
       "\n",
       "    .dataframe thead th {\n",
       "        text-align: right;\n",
       "    }\n",
       "</style>\n",
       "<table border=\"1\" class=\"dataframe\">\n",
       "  <thead>\n",
       "    <tr style=\"text-align: right;\">\n",
       "      <th></th>\n",
       "      <th>0</th>\n",
       "    </tr>\n",
       "  </thead>\n",
       "  <tbody>\n",
       "    <tr>\n",
       "      <th>0</th>\n",
       "      <td>abc</td>\n",
       "    </tr>\n",
       "  </tbody>\n",
       "</table>\n",
       "</div>"
      ],
      "text/plain": [
       "     0\n",
       "0  abc"
      ]
     },
     "metadata": {},
     "output_type": "display_data"
    }
   ],
   "source": [
    "def load_hdf_to_df(file_path, dataset_name):\n",
    "    with h5py.File(file_path, 'r') as f:\n",
    "        # print(f['abc'])\n",
    "        data = f[dataset_name]\n",
    "        df = pd.DataFrame(f)\n",
    "    return df\n",
    "\n",
    "# Load all datasets using the function\n",
    "df_tracks = load_hdf_to_df('df_data/df_tracks.hdf', 'abc')\n",
    "# df_playlists = load_hdf_to_df('df_data/df_playlists.hdf', 'df_playlists')\n",
    "# df_playlists_info = load_hdf_to_df('df_data/df_playlists_info.hdf', 'df_playlists_info')\n",
    "# df_playlists_test = load_hdf_to_df('df_data/df_playlists_test.hdf', 'df_playlists_test')\n",
    "# df_playlists_test_info = load_hdf_to_df('df_data/df_playlists_test_info.hdf', 'df_playlists_test_info')\n",
    "\n",
    "display(df_tracks)"
>>>>>>> 1e0f6334d79e7e8e320ccee2372cf8953e8b3ac0
   ]
  },
  {
   "cell_type": "code",
<<<<<<< HEAD
   "execution_count": 10,
=======
   "execution_count": null,
>>>>>>> 1e0f6334d79e7e8e320ccee2372cf8953e8b3ac0
   "metadata": {
    "ExecuteTime": {
     "end_time": "2018-07-01T15:18:26.017140Z",
     "start_time": "2018-07-01T15:18:24.571608Z"
    }
   },
   "outputs": [],
   "source": [
    "train = pd.read_hdf('df_data/train.hdf')\n",
    "val = pd.read_hdf('df_data/val1.hdf')\n",
<<<<<<< HEAD
    "val1_pids = joblib.load('df_data/val1_pids.pkl')\n"
=======
    "val1_pids = joblib.load('df_data/val1_pids.pkl')"
>>>>>>> 1e0f6334d79e7e8e320ccee2372cf8953e8b3ac0
   ]
  },
  {
   "cell_type": "code",
<<<<<<< HEAD
   "execution_count": 11,
=======
   "execution_count": 6,
>>>>>>> 1e0f6334d79e7e8e320ccee2372cf8953e8b3ac0
   "metadata": {
    "ExecuteTime": {
     "end_time": "2018-07-01T15:19:30.909951Z",
     "start_time": "2018-07-01T15:18:26.018943Z"
    }
   },
   "outputs": [],
   "source": [
    "user_seen = train.groupby('pid').tid.apply(set).to_dict()\n",
    "val_tracks = val.groupby('pid').tid.apply(set).to_dict()"
   ]
  },
  {
   "cell_type": "code",
<<<<<<< HEAD
   "execution_count": 18,
=======
   "execution_count": 7,
>>>>>>> 1e0f6334d79e7e8e320ccee2372cf8953e8b3ac0
   "metadata": {
    "ExecuteTime": {
     "end_time": "2018-07-01T15:19:30.943469Z",
     "start_time": "2018-07-01T15:19:30.912781Z"
    }
   },
<<<<<<< HEAD
   "outputs": [
    {
     "data": {
      "text/html": [
       "<div>\n",
       "<style scoped>\n",
       "    .dataframe tbody tr th:only-of-type {\n",
       "        vertical-align: middle;\n",
       "    }\n",
       "\n",
       "    .dataframe tbody tr th {\n",
       "        vertical-align: top;\n",
       "    }\n",
       "\n",
       "    .dataframe thead th {\n",
       "        text-align: right;\n",
       "    }\n",
       "</style>\n",
       "<table border=\"1\" class=\"dataframe\">\n",
       "  <thead>\n",
       "    <tr style=\"text-align: right;\">\n",
       "      <th></th>\n",
       "      <th>name</th>\n",
       "      <th>num_holdouts</th>\n",
       "      <th>num_samples</th>\n",
       "      <th>num_tracks</th>\n",
       "      <th>pid</th>\n",
       "    </tr>\n",
       "  </thead>\n",
       "  <tbody>\n",
       "    <tr>\n",
       "      <th>0</th>\n",
       "      <td>disney</td>\n",
       "      <td></td>\n",
       "      <td></td>\n",
       "      <td>189</td>\n",
       "      <td>1000</td>\n",
       "    </tr>\n",
       "    <tr>\n",
       "      <th>1</th>\n",
       "      <td>Indie Electro</td>\n",
       "      <td></td>\n",
       "      <td></td>\n",
       "      <td>165</td>\n",
       "      <td>1001</td>\n",
       "    </tr>\n",
       "    <tr>\n",
       "      <th>2</th>\n",
       "      <td>jack &amp; jack</td>\n",
       "      <td></td>\n",
       "      <td></td>\n",
       "      <td>17</td>\n",
       "      <td>1002</td>\n",
       "    </tr>\n",
       "    <tr>\n",
       "      <th>3</th>\n",
       "      <td>vibes</td>\n",
       "      <td></td>\n",
       "      <td></td>\n",
       "      <td>225</td>\n",
       "      <td>1003</td>\n",
       "    </tr>\n",
       "    <tr>\n",
       "      <th>4</th>\n",
       "      <td>Indie</td>\n",
       "      <td></td>\n",
       "      <td></td>\n",
       "      <td>165</td>\n",
       "      <td>1004</td>\n",
       "    </tr>\n",
       "    <tr>\n",
       "      <th>...</th>\n",
       "      <td>...</td>\n",
       "      <td>...</td>\n",
       "      <td>...</td>\n",
       "      <td>...</td>\n",
       "      <td>...</td>\n",
       "    </tr>\n",
       "    <tr>\n",
       "      <th>995</th>\n",
       "      <td>woo</td>\n",
       "      <td></td>\n",
       "      <td></td>\n",
       "      <td>146</td>\n",
       "      <td>1995</td>\n",
       "    </tr>\n",
       "    <tr>\n",
       "      <th>996</th>\n",
       "      <td>NEW YEARS</td>\n",
       "      <td></td>\n",
       "      <td></td>\n",
       "      <td>38</td>\n",
       "      <td>1996</td>\n",
       "    </tr>\n",
       "    <tr>\n",
       "      <th>997</th>\n",
       "      <td>JESUS</td>\n",
       "      <td></td>\n",
       "      <td></td>\n",
       "      <td>40</td>\n",
       "      <td>1997</td>\n",
       "    </tr>\n",
       "    <tr>\n",
       "      <th>998</th>\n",
       "      <td>yep</td>\n",
       "      <td></td>\n",
       "      <td></td>\n",
       "      <td>29</td>\n",
       "      <td>1998</td>\n",
       "    </tr>\n",
       "    <tr>\n",
       "      <th>999</th>\n",
       "      <td>Sad Music</td>\n",
       "      <td></td>\n",
       "      <td></td>\n",
       "      <td>16</td>\n",
       "      <td>1999</td>\n",
       "    </tr>\n",
       "  </tbody>\n",
       "</table>\n",
       "<p>1000 rows × 5 columns</p>\n",
       "</div>"
      ],
      "text/plain": [
       "              name num_holdouts num_samples  num_tracks   pid\n",
       "0           disney                                  189  1000\n",
       "1    Indie Electro                                  165  1001\n",
       "2      jack & jack                                   17  1002\n",
       "3            vibes                                  225  1003\n",
       "4            Indie                                  165  1004\n",
       "..             ...          ...         ...         ...   ...\n",
       "995            woo                                  146  1995\n",
       "996     NEW YEARS                                    38  1996\n",
       "997          JESUS                                   40  1997\n",
       "998            yep                                   29  1998\n",
       "999     Sad Music                                    16  1999\n",
       "\n",
       "[1000 rows x 5 columns]"
      ]
     },
     "metadata": {},
     "output_type": "display_data"
    },
    {
     "data": {
      "text/html": [
       "<div>\n",
       "<style scoped>\n",
       "    .dataframe tbody tr th:only-of-type {\n",
       "        vertical-align: middle;\n",
       "    }\n",
       "\n",
       "    .dataframe tbody tr th {\n",
       "        vertical-align: top;\n",
       "    }\n",
       "\n",
       "    .dataframe thead th {\n",
       "        text-align: right;\n",
       "    }\n",
       "</style>\n",
       "<table border=\"1\" class=\"dataframe\">\n",
       "  <thead>\n",
       "    <tr style=\"text-align: right;\">\n",
       "      <th></th>\n",
       "      <th>pid</th>\n",
       "      <th>tid</th>\n",
       "      <th>pos</th>\n",
       "    </tr>\n",
       "  </thead>\n",
       "  <tbody>\n",
       "    <tr>\n",
       "      <th>0</th>\n",
       "      <td>10000</td>\n",
       "      <td>0</td>\n",
       "      <td>0</td>\n",
       "    </tr>\n",
       "    <tr>\n",
       "      <th>1</th>\n",
       "      <td>10000</td>\n",
       "      <td>1</td>\n",
       "      <td>1</td>\n",
       "    </tr>\n",
       "    <tr>\n",
       "      <th>2</th>\n",
       "      <td>10000</td>\n",
       "      <td>2</td>\n",
       "      <td>2</td>\n",
       "    </tr>\n",
       "    <tr>\n",
       "      <th>3</th>\n",
       "      <td>10000</td>\n",
       "      <td>3</td>\n",
       "      <td>3</td>\n",
       "    </tr>\n",
       "    <tr>\n",
       "      <th>4</th>\n",
       "      <td>10000</td>\n",
       "      <td>4</td>\n",
       "      <td>4</td>\n",
       "    </tr>\n",
       "    <tr>\n",
       "      <th>...</th>\n",
       "      <td>...</td>\n",
       "      <td>...</td>\n",
       "      <td>...</td>\n",
       "    </tr>\n",
       "    <tr>\n",
       "      <th>66617</th>\n",
       "      <td>1999</td>\n",
       "      <td>5250</td>\n",
       "      <td>11</td>\n",
       "    </tr>\n",
       "    <tr>\n",
       "      <th>66618</th>\n",
       "      <td>1999</td>\n",
       "      <td>76057</td>\n",
       "      <td>12</td>\n",
       "    </tr>\n",
       "    <tr>\n",
       "      <th>66619</th>\n",
       "      <td>1999</td>\n",
       "      <td>24588</td>\n",
       "      <td>13</td>\n",
       "    </tr>\n",
       "    <tr>\n",
       "      <th>66620</th>\n",
       "      <td>1999</td>\n",
       "      <td>21341</td>\n",
       "      <td>14</td>\n",
       "    </tr>\n",
       "    <tr>\n",
       "      <th>66621</th>\n",
       "      <td>1999</td>\n",
       "      <td>76058</td>\n",
       "      <td>15</td>\n",
       "    </tr>\n",
       "  </tbody>\n",
       "</table>\n",
       "<p>199508 rows × 3 columns</p>\n",
       "</div>"
      ],
      "text/plain": [
       "         pid    tid  pos\n",
       "0      10000      0    0\n",
       "1      10000      1    1\n",
       "2      10000      2    2\n",
       "3      10000      3    3\n",
       "4      10000      4    4\n",
       "...      ...    ...  ...\n",
       "66617   1999   5250   11\n",
       "66618   1999  76057   12\n",
       "66619   1999  24588   13\n",
       "66620   1999  21341   14\n",
       "66621   1999  76058   15\n",
       "\n",
       "[199508 rows x 3 columns]"
      ]
     },
     "metadata": {},
     "output_type": "display_data"
    }
   ],
=======
   "outputs": [],
>>>>>>> 1e0f6334d79e7e8e320ccee2372cf8953e8b3ac0
   "source": [
    "config = {\n",
    "    'num_playlists': df_playlists_test_info.pid.max() + 1,\n",
    "    'num_tracks': df_tracks.tid.max() + 1,\n",
<<<<<<< HEAD
    "}\n",
    "\n",
    "display(df_playlists_test_info)\n",
    "display(train)"
=======
    "}"
>>>>>>> 1e0f6334d79e7e8e320ccee2372cf8953e8b3ac0
   ]
  },
  {
   "cell_type": "code",
<<<<<<< HEAD
   "execution_count": null,
=======
   "execution_count": 8,
>>>>>>> 1e0f6334d79e7e8e320ccee2372cf8953e8b3ac0
   "metadata": {
    "ExecuteTime": {
     "end_time": "2018-07-01T15:19:31.867927Z",
     "start_time": "2018-07-01T15:19:30.946052Z"
    }
   },
<<<<<<< HEAD
   "outputs": [
    {
     "ename": "ValueError",
     "evalue": "row index exceeds matrix dimensions",
     "output_type": "error",
     "traceback": [
      "\u001b[0;31m---------------------------------------------------------------------------\u001b[0m",
      "\u001b[0;31mValueError\u001b[0m                                Traceback (most recent call last)",
      "Cell \u001b[0;32mIn[16], line 1\u001b[0m\n\u001b[0;32m----> 1\u001b[0m X_train \u001b[38;5;241m=\u001b[39m \u001b[43msp\u001b[49m\u001b[38;5;241;43m.\u001b[39;49m\u001b[43mcoo_matrix\u001b[49m\u001b[43m(\u001b[49m\n\u001b[1;32m      2\u001b[0m \u001b[43m    \u001b[49m\u001b[43m(\u001b[49m\u001b[43mnp\u001b[49m\u001b[38;5;241;43m.\u001b[39;49m\u001b[43mones\u001b[49m\u001b[43m(\u001b[49m\u001b[38;5;28;43mlen\u001b[39;49m\u001b[43m(\u001b[49m\u001b[43mtrain\u001b[49m\u001b[43m)\u001b[49m\u001b[43m)\u001b[49m\u001b[43m,\u001b[49m\u001b[43m \u001b[49m\u001b[43m(\u001b[49m\u001b[43mtrain\u001b[49m\u001b[38;5;241;43m.\u001b[39;49m\u001b[43mpid\u001b[49m\u001b[43m,\u001b[49m\u001b[43m \u001b[49m\u001b[43mtrain\u001b[49m\u001b[38;5;241;43m.\u001b[39;49m\u001b[43mtid\u001b[49m\u001b[43m)\u001b[49m\u001b[43m)\u001b[49m\u001b[43m,\u001b[49m\n\u001b[1;32m      3\u001b[0m \u001b[43m    \u001b[49m\u001b[43mshape\u001b[49m\u001b[38;5;241;43m=\u001b[39;49m\u001b[43m(\u001b[49m\u001b[43mconfig\u001b[49m\u001b[43m[\u001b[49m\u001b[38;5;124;43m'\u001b[39;49m\u001b[38;5;124;43mnum_playlists\u001b[39;49m\u001b[38;5;124;43m'\u001b[39;49m\u001b[43m]\u001b[49m\u001b[43m,\u001b[49m\u001b[43m \u001b[49m\u001b[43mconfig\u001b[49m\u001b[43m[\u001b[49m\u001b[38;5;124;43m'\u001b[39;49m\u001b[38;5;124;43mnum_tracks\u001b[39;49m\u001b[38;5;124;43m'\u001b[39;49m\u001b[43m]\u001b[49m\u001b[43m)\u001b[49m\n\u001b[1;32m      4\u001b[0m \u001b[43m)\u001b[49m\n",
      "File \u001b[0;32m~/.local/share/virtualenvs/homework-01-PeterOlsen1-fJR24Aby/lib/python3.10/site-packages/scipy/sparse/_coo.py:99\u001b[0m, in \u001b[0;36m_coo_base.__init__\u001b[0;34m(self, arg1, shape, dtype, copy)\u001b[0m\n\u001b[1;32m     96\u001b[0m \u001b[38;5;28;01mif\u001b[39;00m dtype \u001b[38;5;129;01mis\u001b[39;00m \u001b[38;5;129;01mnot\u001b[39;00m \u001b[38;5;28;01mNone\u001b[39;00m:\n\u001b[1;32m     97\u001b[0m     \u001b[38;5;28mself\u001b[39m\u001b[38;5;241m.\u001b[39mdata \u001b[38;5;241m=\u001b[39m \u001b[38;5;28mself\u001b[39m\u001b[38;5;241m.\u001b[39mdata\u001b[38;5;241m.\u001b[39mastype(dtype, copy\u001b[38;5;241m=\u001b[39m\u001b[38;5;28;01mFalse\u001b[39;00m)\n\u001b[0;32m---> 99\u001b[0m \u001b[38;5;28;43mself\u001b[39;49m\u001b[38;5;241;43m.\u001b[39;49m\u001b[43m_check\u001b[49m\u001b[43m(\u001b[49m\u001b[43m)\u001b[49m\n",
      "File \u001b[0;32m~/.local/share/virtualenvs/homework-01-PeterOlsen1-fJR24Aby/lib/python3.10/site-packages/scipy/sparse/_coo.py:188\u001b[0m, in \u001b[0;36m_coo_base._check\u001b[0;34m(self)\u001b[0m\n\u001b[1;32m    186\u001b[0m \u001b[38;5;28;01mif\u001b[39;00m \u001b[38;5;28mself\u001b[39m\u001b[38;5;241m.\u001b[39mnnz \u001b[38;5;241m>\u001b[39m \u001b[38;5;241m0\u001b[39m:\n\u001b[1;32m    187\u001b[0m     \u001b[38;5;28;01mif\u001b[39;00m \u001b[38;5;28mself\u001b[39m\u001b[38;5;241m.\u001b[39mrow\u001b[38;5;241m.\u001b[39mmax() \u001b[38;5;241m>\u001b[39m\u001b[38;5;241m=\u001b[39m \u001b[38;5;28mself\u001b[39m\u001b[38;5;241m.\u001b[39mshape[\u001b[38;5;241m0\u001b[39m]:\n\u001b[0;32m--> 188\u001b[0m         \u001b[38;5;28;01mraise\u001b[39;00m \u001b[38;5;167;01mValueError\u001b[39;00m(\u001b[38;5;124m'\u001b[39m\u001b[38;5;124mrow index exceeds matrix dimensions\u001b[39m\u001b[38;5;124m'\u001b[39m)\n\u001b[1;32m    189\u001b[0m     \u001b[38;5;28;01mif\u001b[39;00m \u001b[38;5;28mself\u001b[39m\u001b[38;5;241m.\u001b[39mcol\u001b[38;5;241m.\u001b[39mmax() \u001b[38;5;241m>\u001b[39m\u001b[38;5;241m=\u001b[39m \u001b[38;5;28mself\u001b[39m\u001b[38;5;241m.\u001b[39mshape[\u001b[38;5;241m1\u001b[39m]:\n\u001b[1;32m    190\u001b[0m         \u001b[38;5;28;01mraise\u001b[39;00m \u001b[38;5;167;01mValueError\u001b[39;00m(\u001b[38;5;124m'\u001b[39m\u001b[38;5;124mcolumn index exceeds matrix dimensions\u001b[39m\u001b[38;5;124m'\u001b[39m)\n",
      "\u001b[0;31mValueError\u001b[0m: row index exceeds matrix dimensions"
     ]
    }
   ],
   "source": [
    "X_train = sp.coo_matrix(\n",
    "    (np.ones(len(train)), \n",
    "     (train.pid, train.tid)),\n",
=======
   "outputs": [],
   "source": [
    "X_train = sp.coo_matrix(\n",
    "    (np.ones(len(train)), (train.pid, train.tid)),\n",
>>>>>>> 1e0f6334d79e7e8e320ccee2372cf8953e8b3ac0
    "    shape=(config['num_playlists'], config['num_tracks'])\n",
    ")"
   ]
  },
  {
   "cell_type": "code",
<<<<<<< HEAD
   "execution_count": 8,
=======
   "execution_count": 16,
>>>>>>> 1e0f6334d79e7e8e320ccee2372cf8953e8b3ac0
   "metadata": {
    "ExecuteTime": {
     "end_time": "2018-07-01T15:19:31.872173Z",
     "start_time": "2018-07-01T15:19:31.869738Z"
    }
   },
   "outputs": [
    {
     "name": "stdout",
     "output_type": "stream",
     "text": [
      "Empty DataFrame\n",
<<<<<<< HEAD
      "Columns: [pid, tid, pos]\n",
=======
      "Columns: [Unnamed: 0.1, Unnamed: 0, pid, tid, pos]\n",
>>>>>>> 1e0f6334d79e7e8e320ccee2372cf8953e8b3ac0
      "Index: []\n"
     ]
    }
   ],
   "source": [
    "config['model_path'] = 'models/lightfm_model.pkl'\n",
    "\n",
    "print(val)"
   ]
  },
  {
   "cell_type": "code",
   "execution_count": 12,
   "metadata": {
    "ExecuteTime": {
     "end_time": "2018-07-01T15:30:18.392092Z",
     "start_time": "2018-07-01T15:19:31.873766Z"
    }
   },
   "outputs": [
    {
     "ename": "ValueError",
     "evalue": "Expected the number of user IDs (0) to equal the number of item IDs (57884)",
     "output_type": "error",
     "traceback": [
      "\u001b[0;31m---------------------------------------------------------------------------\u001b[0m",
      "\u001b[0;31mValueError\u001b[0m                                Traceback (most recent call last)",
      "Cell \u001b[0;32mIn[12], line 16\u001b[0m\n\u001b[1;32m      4\u001b[0m \u001b[38;5;28;01mfor\u001b[39;00m i \u001b[38;5;129;01min\u001b[39;00m \u001b[38;5;28mrange\u001b[39m(\u001b[38;5;241m60\u001b[39m):\n\u001b[1;32m      5\u001b[0m     \n\u001b[1;32m      6\u001b[0m     \u001b[38;5;66;03m# model.fit_partial(X_train, epochs=5, num_threads=8)\u001b[39;00m\n\u001b[0;32m   (...)\u001b[0m\n\u001b[1;32m     12\u001b[0m     \u001b[38;5;66;03m# res = model.batch_predict(chunk_id=0, user_ids=val1_pids, top_k=600)\u001b[39;00m\n\u001b[1;32m     13\u001b[0m     \u001b[38;5;66;03m# model.batch_cleanup()\u001b[39;00m\n\u001b[1;32m     15\u001b[0m     model\u001b[38;5;241m.\u001b[39mfit(X_train, epochs\u001b[38;5;241m=\u001b[39m\u001b[38;5;241m5\u001b[39m, num_threads\u001b[38;5;241m=\u001b[39m\u001b[38;5;241m6\u001b[39m)\n\u001b[0;32m---> 16\u001b[0m     res \u001b[38;5;241m=\u001b[39m \u001b[43mmodel\u001b[49m\u001b[38;5;241;43m.\u001b[39;49m\u001b[43mpredict\u001b[49m\u001b[43m(\u001b[49m\u001b[43muser_ids\u001b[49m\u001b[38;5;241;43m=\u001b[39;49m\u001b[43mval1_pids\u001b[49m\u001b[43m,\u001b[49m\u001b[43m \u001b[49m\u001b[43mitem_ids\u001b[49m\u001b[38;5;241;43m=\u001b[39;49m\u001b[43mnp\u001b[49m\u001b[38;5;241;43m.\u001b[39;49m\u001b[43marange\u001b[49m\u001b[43m(\u001b[49m\u001b[43mconfig\u001b[49m\u001b[43m[\u001b[49m\u001b[38;5;124;43m'\u001b[39;49m\u001b[38;5;124;43mnum_tracks\u001b[39;49m\u001b[38;5;124;43m'\u001b[39;49m\u001b[43m]\u001b[49m\u001b[43m)\u001b[49m\u001b[43m)\u001b[49m\n\u001b[1;32m     18\u001b[0m     score \u001b[38;5;241m=\u001b[39m []\n\u001b[1;32m     19\u001b[0m     \u001b[38;5;28;01mfor\u001b[39;00m pid \u001b[38;5;129;01min\u001b[39;00m val1_pids:\n",
      "File \u001b[0;32m~/.local/share/virtualenvs/homework-01-PeterOlsen1-fJR24Aby/lib/python3.10/site-packages/lightfm/lightfm.py:831\u001b[0m, in \u001b[0;36mLightFM.predict\u001b[0;34m(self, user_ids, item_ids, item_features, user_features, num_threads)\u001b[0m\n\u001b[1;32m    828\u001b[0m     item_ids \u001b[38;5;241m=\u001b[39m np\u001b[38;5;241m.\u001b[39marray(item_ids, dtype\u001b[38;5;241m=\u001b[39mnp\u001b[38;5;241m.\u001b[39mint32)\n\u001b[1;32m    830\u001b[0m \u001b[38;5;28;01mif\u001b[39;00m \u001b[38;5;28mlen\u001b[39m(user_ids) \u001b[38;5;241m!=\u001b[39m \u001b[38;5;28mlen\u001b[39m(item_ids):\n\u001b[0;32m--> 831\u001b[0m     \u001b[38;5;28;01mraise\u001b[39;00m \u001b[38;5;167;01mValueError\u001b[39;00m(\n\u001b[1;32m    832\u001b[0m         \u001b[38;5;124mf\u001b[39m\u001b[38;5;124m\"\u001b[39m\u001b[38;5;124mExpected the number of user IDs (\u001b[39m\u001b[38;5;132;01m{\u001b[39;00m\u001b[38;5;28mlen\u001b[39m(user_ids)\u001b[38;5;132;01m}\u001b[39;00m\u001b[38;5;124m) to equal the number\u001b[39m\u001b[38;5;124m\"\u001b[39m\n\u001b[1;32m    833\u001b[0m         \u001b[38;5;124mf\u001b[39m\u001b[38;5;124m\"\u001b[39m\u001b[38;5;124m of item IDs (\u001b[39m\u001b[38;5;132;01m{\u001b[39;00m\u001b[38;5;28mlen\u001b[39m(item_ids)\u001b[38;5;132;01m}\u001b[39;00m\u001b[38;5;124m)\u001b[39m\u001b[38;5;124m\"\u001b[39m\n\u001b[1;32m    834\u001b[0m     )\n\u001b[1;32m    836\u001b[0m \u001b[38;5;28;01mif\u001b[39;00m user_ids\u001b[38;5;241m.\u001b[39mdtype \u001b[38;5;241m!=\u001b[39m np\u001b[38;5;241m.\u001b[39mint32:\n\u001b[1;32m    837\u001b[0m     user_ids \u001b[38;5;241m=\u001b[39m user_ids\u001b[38;5;241m.\u001b[39mastype(np\u001b[38;5;241m.\u001b[39mint32)\n",
      "\u001b[0;31mValueError\u001b[0m: Expected the number of user IDs (0) to equal the number of item IDs (57884)"
     ]
    }
   ],
   "source": [
    "model = LightFM(no_components=200, loss='warp', learning_rate=0.02, max_sampled=400, random_state=1, user_alpha=1e-05)\n",
    "\n",
    "best_score = 0\n",
    "for i in range(60):\n",
    "    \n",
    "    # model.fit_partial(X_train, epochs=5, num_threads=8)\n",
    "\n",
    "    # model.batch_setup(\n",
    "    #     item_chunks={0: np.arange(config['num_tracks'])},\n",
    "    #     n_process=50, \n",
    "    # )\n",
    "    # res = model.batch_predict(chunk_id=0, user_ids=val1_pids, top_k=600)\n",
    "    # model.batch_cleanup()\n",
    "\n",
    "    model.fit(X_train, epochs=5, num_threads=6)\n",
    "    res = model.predict(user_ids=val1_pids, item_ids=np.arange(config['num_tracks']))\n",
    "    \n",
    "    score = []\n",
    "    for pid in val1_pids:\n",
    "        tracks_t = val_tracks[pid]\n",
    "        tracks = [i for i in res[pid][0] if i not in user_seen.get(pid, set())][:len(tracks_t)]\n",
    "        guess = np.sum([i in tracks_t for i in tracks])\n",
    "        score.append(guess / len(tracks_t))\n",
    "    \n",
    "    score = np.mean(score)\n",
    "    print(score)\n",
    "    if score > best_score:\n",
    "        joblib.dump(model, open(config['model_path'], 'wb'))\n",
    "        best_score = score"
   ]
  },
  {
   "cell_type": "code",
   "execution_count": null,
   "metadata": {},
   "outputs": [],
   "source": []
  }
 ],
 "metadata": {
  "kernelspec": {
   "display_name": "homework-01-PeterOlsen1-fJR24Aby",
   "language": "python",
   "name": "python3"
  },
  "language_info": {
   "codemirror_mode": {
    "name": "ipython",
    "version": 3
   },
   "file_extension": ".py",
   "mimetype": "text/x-python",
   "name": "python",
   "nbconvert_exporter": "python",
   "pygments_lexer": "ipython3",
   "version": "3.10.12"
  },
  "toc": {
   "nav_menu": {},
   "number_sections": true,
   "sideBar": true,
   "skip_h1_title": false,
   "title_cell": "Table of Contents",
   "title_sidebar": "Contents",
   "toc_cell": false,
   "toc_position": {},
   "toc_section_display": true,
   "toc_window_display": false
  }
 },
 "nbformat": 4,
 "nbformat_minor": 2
}
