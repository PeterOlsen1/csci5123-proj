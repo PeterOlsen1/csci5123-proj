{
 "cells": [
  {
   "cell_type": "code",
   "execution_count": 1,
   "metadata": {
    "ExecuteTime": {
     "end_time": "2018-07-01T15:18:18.905289Z",
     "start_time": "2018-07-01T15:18:18.899944Z"
    }
   },
   "outputs": [],
   "source": [
    "import os\n",
    "os.environ['OPENBLAS_NUM_THREADS'] = '1'\n",
    "os.environ['OMP_NUM_THREADS'] = '1'"
   ]
  },
  {
   "cell_type": "code",
   "execution_count": 2,
   "metadata": {
    "ExecuteTime": {
     "end_time": "2018-07-01T15:18:19.302277Z",
     "start_time": "2018-07-01T15:18:18.907606Z"
    }
   },
   "outputs": [
    {
     "name": "stderr",
     "output_type": "stream",
     "text": [
      "/Users/peterolsen/.pyenv/versions/csci5123-proj/lib/python3.10/site-packages/lightfm/_lightfm_fast.py:9: UserWarning: LightFM was compiled without OpenMP support. Only a single thread will be used.\n",
      "  warnings.warn(\n"
     ]
    }
   ],
   "source": [
    "import joblib\n",
    "\n",
    "import numpy as np\n",
    "import pandas as pd\n",
    "import scipy.sparse as sp\n",
    "\n",
    "from lightfm_wrapper import LightFMWrapper"
   ]
  },
  {
   "cell_type": "code",
   "execution_count": 3,
   "metadata": {
    "ExecuteTime": {
     "end_time": "2018-07-01T15:18:19.416728Z",
     "start_time": "2018-07-01T15:18:19.304010Z"
    }
   },
   "outputs": [
    {
     "name": "stdout",
     "output_type": "stream",
     "text": [
      "mkdir: models: File exists\n"
     ]
    }
   ],
   "source": [
    "!mkdir models"
   ]
  },
  {
   "cell_type": "code",
   "execution_count": 4,
   "metadata": {
    "ExecuteTime": {
     "end_time": "2018-07-01T15:18:24.568879Z",
     "start_time": "2018-07-01T15:18:19.418444Z"
    }
   },
   "outputs": [],
   "source": [
    "# Load all datasets using the function\n",
    "df_tracks = pd.read_hdf('df_data/df_tracks.hdf', 'abc')\n",
    "df_playlists = pd.read_hdf('df_data/df_playlists.hdf', 'abc')\n",
    "df_playlists_info = pd.read_hdf('df_data/df_playlists_info.hdf', 'abc')\n",
    "df_playlists_test = pd.read_hdf('df_data/df_playlists_test.hdf', 'abc')\n",
    "df_playlists_test_info = pd.read_hdf('df_data/df_playlists_test_info.hdf', 'abc')"
   ]
  },
  {
   "cell_type": "code",
   "execution_count": 5,
   "metadata": {
    "ExecuteTime": {
     "end_time": "2018-07-01T15:18:26.017140Z",
     "start_time": "2018-07-01T15:18:24.571608Z"
    }
   },
   "outputs": [],
   "source": [
    "train = pd.read_hdf('df_data/train.hdf')\n",
    "val = pd.read_hdf('df_data/val1.hdf')\n",
    "val1_pids = joblib.load('df_data/val1_pids.pkl')"
   ]
  },
  {
   "cell_type": "code",
   "execution_count": 6,
   "metadata": {
    "ExecuteTime": {
     "end_time": "2018-07-01T15:19:30.909951Z",
     "start_time": "2018-07-01T15:18:26.018943Z"
    }
   },
   "outputs": [],
   "source": [
    "user_seen = train.groupby('pid').tid.apply(set).to_dict()\n",
    "val_tracks = val.groupby('pid').tid.apply(set).to_dict()"
   ]
  },
  {
   "cell_type": "code",
   "execution_count": 7,
   "metadata": {
    "ExecuteTime": {
     "end_time": "2018-07-01T15:19:30.943469Z",
     "start_time": "2018-07-01T15:19:30.912781Z"
    }
   },
   "outputs": [],
   "source": [
    "# this was edited, since before \"num_playlists\" was set as the number of\n",
    "# playlists in the testing set, so there was an error creating the sparse matrix\n",
    "\n",
    "config = {\n",
    "    'num_playlists': df_playlists_info.pid.max() + 1,\n",
    "    'num_tracks': df_tracks.tid.max() + 1,\n",
    "    'model_path': 'models/lightfm_model.pkl'\n",
    "}\n"
   ]
  },
  {
   "cell_type": "code",
   "execution_count": 8,
   "metadata": {
    "ExecuteTime": {
     "end_time": "2018-07-01T15:19:31.867927Z",
     "start_time": "2018-07-01T15:19:30.946052Z"
    }
   },
   "outputs": [],
   "source": [
    "X_train = sp.coo_matrix(\n",
    "    (np.ones(len(train)), (train.pid, train.tid)),\n",
    "    shape=(config['num_playlists'], config['num_tracks'])\n",
    ")"
   ]
  },
  {
   "cell_type": "code",
   "execution_count": 9,
   "metadata": {
    "ExecuteTime": {
     "end_time": "2018-07-01T15:30:18.392092Z",
     "start_time": "2018-07-01T15:19:31.873766Z"
    }
   },
   "outputs": [
    {
     "name": "stdout",
     "output_type": "stream",
     "text": [
      "iteration: 0\n",
      "Batch predict: user_ids: 1,000, item_ids: 212,601\n",
      "Start recommending: using single process\n",
      "Recommendations for chunk 0 done in 28.995s. 0.0290 s by user\n",
      "0.045738770019544066\n",
      "iteration: 1\n",
      "Batch predict: user_ids: 1,000, item_ids: 212,601\n",
      "Start recommending: using single process\n",
      "Recommendations for chunk 0 done in 26.449s. 0.0264 s by user\n",
      "0.05383870654579224\n",
      "iteration: 2\n",
      "Batch predict: user_ids: 1,000, item_ids: 212,601\n",
      "Start recommending: using single process\n",
      "Recommendations for chunk 0 done in 26.237s. 0.0262 s by user\n",
      "0.058136829908612145\n",
      "iteration: 3\n",
      "Batch predict: user_ids: 1,000, item_ids: 212,601\n",
      "Start recommending: using single process\n",
      "Recommendations for chunk 0 done in 26.451s. 0.0265 s by user\n",
      "0.05900736569409577\n",
      "iteration: 4\n",
      "Batch predict: user_ids: 1,000, item_ids: 212,601\n",
      "Start recommending: using single process\n",
      "Recommendations for chunk 0 done in 26.223s. 0.0262 s by user\n",
      "0.06008706660729112\n",
      "iteration: 5\n",
      "Batch predict: user_ids: 1,000, item_ids: 212,601\n",
      "Start recommending: using single process\n",
      "Recommendations for chunk 0 done in 26.701s. 0.0267 s by user\n",
      "0.06226343336060795\n",
      "iteration: 6\n",
      "Batch predict: user_ids: 1,000, item_ids: 212,601\n",
      "Start recommending: using single process\n",
      "Recommendations for chunk 0 done in 26.255s. 0.0263 s by user\n",
      "0.06260561858702404\n",
      "iteration: 7\n",
      "Batch predict: user_ids: 1,000, item_ids: 212,601\n",
      "Start recommending: using single process\n",
      "Recommendations for chunk 0 done in 29.188s. 0.0292 s by user\n",
      "0.06353997769714205\n",
      "iteration: 8\n",
      "Batch predict: user_ids: 1,000, item_ids: 212,601\n",
      "Start recommending: using single process\n",
      "Recommendations for chunk 0 done in 27.054s. 0.0271 s by user\n",
      "0.06320182553942814\n",
      "iteration: 9\n",
      "Batch predict: user_ids: 1,000, item_ids: 212,601\n",
      "Start recommending: using single process\n",
      "Recommendations for chunk 0 done in 28.371s. 0.0284 s by user\n",
      "0.06425466088900919\n"
     ]
    }
   ],
   "source": [
    "model = LightFMWrapper(no_components=200, loss='warp', learning_rate=0.02, max_sampled=400, random_state=1, user_alpha=1e-05)\n",
    "\n",
    "best_score = 0\n",
    "for i in range(10):\n",
    "    print(f'iteration: {i}')\n",
    "    \n",
    "    model.fit_partial(X_train, epochs=3, num_threads=8)\n",
    "\n",
    "    model.batch_setup(\n",
    "        item_chunks={0: np.arange(config['num_tracks'])},\n",
    "        item_features=None,\n",
    "        user_features=None,\n",
    "        n_process=1, \n",
    "    )\n",
    "    # model.n_process = 1\n",
    "\n",
    "    res = model.batch_predict(chunk_id=0, user_ids=val1_pids, top_k=600)\n",
    "    model.batch_cleanup()\n",
    "    \n",
    "    score = []\n",
    "    for pid in val1_pids:\n",
    "        tracks_t = val_tracks[pid]\n",
    "        tracks = [i for i in res[pid][0] if i not in user_seen.get(pid, set())][:len(tracks_t)]\n",
    "        guess = np.sum([i in tracks_t for i in tracks])\n",
    "        score.append(guess / len(tracks_t))\n",
    "    \n",
    "    score = np.mean(score)\n",
    "    print(score)\n",
    "    if score > best_score:\n",
    "        joblib.dump(model, open(config['model_path'], 'wb'))\n",
    "        best_score = score"
   ]
  }
 ],
 "metadata": {
  "kernelspec": {
   "display_name": "csci5123-proj",
   "language": "python",
   "name": "python3"
  },
  "language_info": {
   "codemirror_mode": {
    "name": "ipython",
    "version": 3
   },
   "file_extension": ".py",
   "mimetype": "text/x-python",
   "name": "python",
   "nbconvert_exporter": "python",
   "pygments_lexer": "ipython3",
   "version": "3.10.12"
  },
  "toc": {
   "nav_menu": {},
   "number_sections": true,
   "sideBar": true,
   "skip_h1_title": false,
   "title_cell": "Table of Contents",
   "title_sidebar": "Contents",
   "toc_cell": false,
   "toc_position": {},
   "toc_section_display": true,
   "toc_window_display": false
  }
 },
 "nbformat": 4,
 "nbformat_minor": 2
}
