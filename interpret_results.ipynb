{
 "cells": [
  {
   "cell_type": "code",
   "execution_count": 10,
   "metadata": {},
   "outputs": [],
   "source": [
    "import pandas as pd\n",
    "from tqdm import tqdm"
   ]
  },
  {
   "cell_type": "code",
   "execution_count": null,
   "metadata": {},
   "outputs": [
    {
     "name": "stderr",
     "output_type": "stream",
     "text": [
      "1000it [00:00, 5222.12it/s]\n"
     ]
    }
   ],
   "source": [
    "# Load tracks into a dictionary for fast lookup\n",
    "tracks = pd.read_hdf('df_data/df_tracks.hdf')\n",
    "track_dict = dict(zip(tracks['track_uri'], tracks['track_name']))  # Strip first char if needed\n",
    "\n",
    "results = []\n",
    "fp = open('submission.hdf')\n",
    "out = open('results.txt', 'w')\n",
    "\n",
    "next(fp)\n",
    "for line in tqdm(fp):\n",
    "    track_ids = line.strip().split(',')[1:]\n",
    "    titles = [track_dict.get(track[1:], \"Unknown\") for track in track_ids]\n",
    "    results.append(titles)\n",
    "    out.write(', '.join(titles) + '\\n')\n",
    "    # print(titles)\n",
    "    # break\n",
    "\n",
    "fp.close()\n",
    "out.close()"
   ]
  }
 ],
 "metadata": {
  "kernelspec": {
   "display_name": "csci5123-proj",
   "language": "python",
   "name": "python3"
  },
  "language_info": {
   "codemirror_mode": {
    "name": "ipython",
    "version": 3
   },
   "file_extension": ".py",
   "mimetype": "text/x-python",
   "name": "python",
   "nbconvert_exporter": "python",
   "pygments_lexer": "ipython3",
   "version": "3.10.12"
  }
 },
 "nbformat": 4,
 "nbformat_minor": 2
}
