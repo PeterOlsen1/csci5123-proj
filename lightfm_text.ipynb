{
 "cells": [
  {
   "cell_type": "code",
   "execution_count": 1,
   "metadata": {
    "ExecuteTime": {
     "end_time": "2018-07-01T15:32:00.816518Z",
     "start_time": "2018-07-01T15:32:00.811085Z"
    }
   },
   "outputs": [],
   "source": [
    "import os\n",
    "os.environ['OPENBLAS_NUM_THREADS'] = '1'\n",
    "os.environ['OMP_NUM_THREADS'] = '1'"
   ]
  },
  {
   "cell_type": "code",
   "execution_count": 2,
   "metadata": {
    "ExecuteTime": {
     "end_time": "2018-07-01T15:32:01.327200Z",
     "start_time": "2018-07-01T15:32:00.819673Z"
    }
   },
   "outputs": [
    {
     "name": "stderr",
     "output_type": "stream",
     "text": [
      "/Users/peterolsen/.pyenv/versions/csci5123-proj/lib/python3.10/site-packages/lightfm/_lightfm_fast.py:9: UserWarning: LightFM was compiled without OpenMP support. Only a single thread will be used.\n",
      "  warnings.warn(\n"
     ]
    }
   ],
   "source": [
    "import os\n",
    "import json\n",
    "import joblib\n",
    "\n",
    "import numpy as np\n",
    "import pandas as pd\n",
    "import scipy.sparse as sp\n",
    "from sklearn.preprocessing import LabelEncoder\n",
    "from sklearn.feature_extraction.text import CountVectorizer\n",
    "\n",
    "from lightfm_wrapper import LightFMWrapper"
   ]
  },
  {
   "cell_type": "code",
   "execution_count": 3,
   "metadata": {
    "ExecuteTime": {
     "end_time": "2018-07-01T15:32:06.503769Z",
     "start_time": "2018-07-01T15:32:01.330133Z"
    }
   },
   "outputs": [],
   "source": [
    "df_tracks = pd.read_hdf('df_data/df_tracks.hdf')\n",
    "df_playlists = pd.read_hdf('df_data/df_playlists.hdf')\n",
    "df_playlists_info = pd.read_hdf('df_data/df_playlists_info.hdf')\n",
    "df_playlists_test = pd.read_hdf('df_data/df_playlists_test.hdf')\n",
    "df_playlists_test_info = pd.read_hdf('df_data/df_playlists_test_info.hdf')"
   ]
  },
  {
   "cell_type": "code",
   "execution_count": 4,
   "metadata": {
    "ExecuteTime": {
     "end_time": "2018-07-01T15:32:07.690187Z",
     "start_time": "2018-07-01T15:32:06.506581Z"
    }
   },
   "outputs": [],
   "source": [
    "train = pd.read_hdf('df_data/train.hdf')\n",
    "val = pd.read_hdf('df_data/val1.hdf')\n",
    "val1_pids = joblib.load('df_data/val1_pids.pkl')"
   ]
  },
  {
   "cell_type": "code",
   "execution_count": 5,
   "metadata": {
    "ExecuteTime": {
     "end_time": "2018-07-01T15:33:12.108397Z",
     "start_time": "2018-07-01T15:32:07.692290Z"
    }
   },
   "outputs": [],
   "source": [
    "user_seen = train.groupby('pid').tid.apply(set).to_dict()\n",
    "val_tracks = val.groupby('pid').tid.apply(set).to_dict()"
   ]
  },
  {
   "cell_type": "code",
   "execution_count": 6,
   "metadata": {
    "ExecuteTime": {
     "end_time": "2018-07-01T15:33:12.135310Z",
     "start_time": "2018-07-01T15:33:12.110641Z"
    }
   },
   "outputs": [],
   "source": [
    "config = {\n",
    "    'num_playlists': df_playlists_info.pid.max() + 1,\n",
    "    'num_tracks': df_tracks.tid.max() + 1,\n",
    "    'model_path': 'models/lightfm_model_text.pkl',\n",
    "}"
   ]
  },
  {
   "cell_type": "code",
   "execution_count": 7,
   "metadata": {
    "ExecuteTime": {
     "end_time": "2018-07-01T15:33:12.575131Z",
     "start_time": "2018-07-01T15:33:12.137278Z"
    }
   },
   "outputs": [],
   "source": [
    "zeros_pids = np.array(list(set(val1_pids).difference(train.pid.unique())))\n",
    "\n",
    "no_zeros_pids = np.array(list(set(val1_pids).difference(zeros_pids))[:1000])\n",
    "target_pids = np.hstack([zeros_pids, no_zeros_pids])\n",
    "\n",
    "playlist_name1 = df_playlists_test_info.set_index('pid').name\n",
    "playlist_name2 = df_playlists_info.set_index('pid').name\n",
    "playlist_name = pd.concat([playlist_name1, playlist_name2]).sort_index()"
   ]
  },
  {
   "cell_type": "code",
   "execution_count": 8,
   "metadata": {},
   "outputs": [],
   "source": [
    "playlist_name = playlist_name.reset_index(drop=True)\n",
    "playlist_name = playlist_name.reindex(np.arange(config['num_playlists'])).fillna('')\n",
    "# .reindex(np.arange(config['num_playlists']))\n",
    "\n",
    "vectorizer = CountVectorizer(max_features=20000)\n",
    "user_features = vectorizer.fit_transform(playlist_name)\n",
    "\n",
    "user_features = sp.hstack([sp.eye(config['num_playlists']), user_features])"
   ]
  },
  {
   "cell_type": "code",
   "execution_count": 9,
   "metadata": {
    "ExecuteTime": {
     "end_time": "2018-07-01T15:33:17.360111Z",
     "start_time": "2018-07-01T15:33:16.456609Z"
    }
   },
   "outputs": [],
   "source": [
    "X_train = sp.coo_matrix(\n",
    "    (np.ones(len(train)), (train.pid, train.tid)),\n",
    "    shape=(config['num_playlists'], config['num_tracks'])\n",
    ")"
   ]
  },
  {
   "cell_type": "code",
   "execution_count": 10,
   "metadata": {
    "ExecuteTime": {
     "end_time": "2018-07-01T15:33:17.365490Z",
     "start_time": "2018-07-01T15:33:17.362077Z"
    }
   },
   "outputs": [],
   "source": [
    "model = LightFMWrapper(\n",
    "    no_components=200, \n",
    "    loss='warp', \n",
    "    learning_rate=0.03, \n",
    "    max_sampled=400, \n",
    "    random_state=1,\n",
    "    user_alpha=1e-05,\n",
    ")"
   ]
  },
  {
   "cell_type": "code",
   "execution_count": 11,
   "metadata": {
    "ExecuteTime": {
     "end_time": "2018-07-01T15:45:17.381236Z",
     "start_time": "2018-07-01T15:33:17.366988Z"
    },
    "scrolled": true
   },
   "outputs": [
    {
     "name": "stdout",
     "output_type": "stream",
     "text": [
      "iteration: 0\n",
      "Batch predict: user_ids: 992, item_ids: 113,304\n",
      "Start recommending: using single process\n",
      "Recommendations for chunk 0 done in 11.559s. 0.0117 s by user\n",
      "0.01569837174038791 0.032183292895073115\n",
      "iteration: 1\n",
      "Batch predict: user_ids: 992, item_ids: 113,304\n",
      "Start recommending: using single process\n",
      "Recommendations for chunk 0 done in 11.475s. 0.0116 s by user\n",
      "0.011364697191642962 0.037951468752568294\n",
      "iteration: 2\n",
      "Batch predict: user_ids: 992, item_ids: 113,304\n",
      "Start recommending: using single process\n",
      "Recommendations for chunk 0 done in 11.671s. 0.0118 s by user\n",
      "0.010265488154177889 0.04037701593614937\n",
      "iteration: 3\n",
      "Batch predict: user_ids: 992, item_ids: 113,304\n",
      "Start recommending: using single process\n",
      "Recommendations for chunk 0 done in 12.000s. 0.0121 s by user\n",
      "0.009857091197963587 0.0405445940764208\n",
      "iteration: 4\n",
      "Batch predict: user_ids: 992, item_ids: 113,304\n",
      "Start recommending: using single process\n",
      "Recommendations for chunk 0 done in 11.474s. 0.0116 s by user\n",
      "0.009925159160607289 0.039705075060945075\n",
      "iteration: 5\n",
      "Batch predict: user_ids: 992, item_ids: 113,304\n",
      "Start recommending: using single process\n",
      "Recommendations for chunk 0 done in 11.655s. 0.0117 s by user\n",
      "0.009610497476081099 0.03966339263594155\n",
      "iteration: 6\n",
      "Batch predict: user_ids: 992, item_ids: 113,304\n",
      "Start recommending: using single process\n",
      "Recommendations for chunk 0 done in 11.429s. 0.0115 s by user\n",
      "0.009770051274088571 0.04082133703750427\n",
      "iteration: 7\n",
      "Batch predict: user_ids: 992, item_ids: 113,304\n",
      "Start recommending: using single process\n",
      "Recommendations for chunk 0 done in 12.081s. 0.0122 s by user\n",
      "0.009233811679405134 0.04001293793828067\n",
      "iteration: 8\n",
      "Batch predict: user_ids: 992, item_ids: 113,304\n",
      "Start recommending: using single process\n",
      "Recommendations for chunk 0 done in 11.837s. 0.0119 s by user\n",
      "0.009090377598907375 0.039705368704449344\n",
      "iteration: 9\n",
      "Batch predict: user_ids: 992, item_ids: 113,304\n",
      "Start recommending: using single process\n",
      "Recommendations for chunk 0 done in 12.643s. 0.0127 s by user\n",
      "0.009325422439942183 0.03917803165751176\n"
     ]
    }
   ],
   "source": [
    "best_score = 0\n",
    "\n",
    "for i in range(10):\n",
    "    print(\"iteration:\", i)\n",
    "    model.fit_partial(X_train, epochs=3, num_threads=1, user_features=user_features)\n",
    "\n",
    "    model.batch_setup(\n",
    "        item_chunks={0: np.arange(config['num_tracks'])},\n",
    "        n_process=1, \n",
    "        item_features=None,\n",
    "        user_features=user_features,\n",
    "    )\n",
    "\n",
    "    res = model.batch_predict(chunk_id=0, user_ids=target_pids, top_k=600)\n",
    "    model.batch_cleanup()\n",
    "    \n",
    "    score = []\n",
    "    score2 = []\n",
    "    \n",
    "    for pid in zeros_pids:\n",
    "        tracks_t = val_tracks[pid]\n",
    "        tracks = [i for i in res[pid][0] if i not in user_seen.get(pid, set())][:len(tracks_t)]\n",
    "        guess = np.sum([i in tracks_t for i in tracks])\n",
    "        score.append(guess / len(tracks_t))\n",
    "    \n",
    "    for pid in no_zeros_pids:\n",
    "        tracks_t = val_tracks[pid]\n",
    "        tracks = [i for i in res[pid][0] if i not in user_seen.get(pid, set())][:len(tracks_t)]\n",
    "        guess = np.sum([i in tracks_t for i in tracks])\n",
    "        score2.append(guess / len(tracks_t))\n",
    "    \n",
    "    score = np.mean(score)\n",
    "    score2 = np.mean(score2)\n",
    "    \n",
    "    print(score, score2)\n",
    "    if score > best_score:\n",
    "        joblib.dump(model, open(config['model_path'], 'wb'))\n",
    "        best_score = score"
   ]
  },
  {
   "cell_type": "code",
   "execution_count": 12,
   "metadata": {
    "ExecuteTime": {
     "end_time": "2018-07-01T15:45:17.416330Z",
     "start_time": "2018-07-01T15:45:17.383320Z"
    }
   },
   "outputs": [],
   "source": [
    "joblib.dump(user_features, open('models/user_features.pkl', 'wb'))"
   ]
  },
  {
   "cell_type": "code",
   "execution_count": 41,
   "metadata": {
    "ExecuteTime": {
     "end_time": "2018-07-01T15:45:23.412688Z",
     "start_time": "2018-07-01T15:45:17.418274Z"
    }
   },
   "outputs": [],
   "source": [
    "model = joblib.load(open(config['model_path'], 'rb'))"
   ]
  }
 ],
 "metadata": {
  "kernelspec": {
   "display_name": "csci5123-proj",
   "language": "python",
   "name": "python3"
  },
  "language_info": {
   "codemirror_mode": {
    "name": "ipython",
    "version": 3
   },
   "file_extension": ".py",
   "mimetype": "text/x-python",
   "name": "python",
   "nbconvert_exporter": "python",
   "pygments_lexer": "ipython3",
   "version": "3.10.12"
  },
  "toc": {
   "nav_menu": {},
   "number_sections": true,
   "sideBar": true,
   "skip_h1_title": false,
   "title_cell": "Table of Contents",
   "title_sidebar": "Contents",
   "toc_cell": false,
   "toc_position": {},
   "toc_section_display": true,
   "toc_window_display": false
  }
 },
 "nbformat": 4,
 "nbformat_minor": 2
}
