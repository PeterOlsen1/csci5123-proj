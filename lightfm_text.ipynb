{
 "cells": [
  {
   "cell_type": "code",
   "execution_count": 1,
   "metadata": {
    "ExecuteTime": {
     "end_time": "2018-07-01T15:32:00.816518Z",
     "start_time": "2018-07-01T15:32:00.811085Z"
    }
   },
   "outputs": [],
   "source": [
    "import os\n",
    "os.environ['OPENBLAS_NUM_THREADS'] = '1'\n",
    "os.environ['OMP_NUM_THREADS'] = '1'"
   ]
  },
  {
   "cell_type": "code",
   "execution_count": 2,
   "metadata": {
    "ExecuteTime": {
     "end_time": "2018-07-01T15:32:01.327200Z",
     "start_time": "2018-07-01T15:32:00.819673Z"
    }
   },
   "outputs": [
    {
     "name": "stderr",
     "output_type": "stream",
     "text": [
      "/Users/peterolsen/.pyenv/versions/csci5123-proj/lib/python3.10/site-packages/lightfm/_lightfm_fast.py:9: UserWarning: LightFM was compiled without OpenMP support. Only a single thread will be used.\n",
      "  warnings.warn(\n"
     ]
    }
   ],
   "source": [
    "import os\n",
    "import json\n",
    "import joblib\n",
    "\n",
    "import numpy as np\n",
    "import pandas as pd\n",
    "import scipy.sparse as sp\n",
    "from sklearn.preprocessing import LabelEncoder\n",
    "from sklearn.feature_extraction.text import CountVectorizer\n",
    "\n",
    "from lightfm_wrapper import LightFMWrapper"
   ]
  },
  {
   "cell_type": "code",
   "execution_count": 3,
   "metadata": {
    "ExecuteTime": {
     "end_time": "2018-07-01T15:32:06.503769Z",
     "start_time": "2018-07-01T15:32:01.330133Z"
    }
   },
   "outputs": [],
   "source": [
    "df_tracks = pd.read_hdf('df_data/df_tracks.hdf')\n",
    "df_playlists = pd.read_hdf('df_data/df_playlists.hdf')\n",
    "df_playlists_info = pd.read_hdf('df_data/df_playlists_info.hdf')\n",
    "df_playlists_test = pd.read_hdf('df_data/df_playlists_test.hdf')\n",
    "df_playlists_test_info = pd.read_hdf('df_data/df_playlists_test_info.hdf')"
   ]
  },
  {
   "cell_type": "code",
   "execution_count": 4,
   "metadata": {
    "ExecuteTime": {
     "end_time": "2018-07-01T15:32:07.690187Z",
     "start_time": "2018-07-01T15:32:06.506581Z"
    }
   },
   "outputs": [],
   "source": [
    "train = pd.read_hdf('df_data/train.hdf')\n",
    "val = pd.read_hdf('df_data/val1.hdf')\n",
    "val1_pids = joblib.load('df_data/val1_pids.pkl')"
   ]
  },
  {
   "cell_type": "code",
   "execution_count": 5,
   "metadata": {
    "ExecuteTime": {
     "end_time": "2018-07-01T15:33:12.108397Z",
     "start_time": "2018-07-01T15:32:07.692290Z"
    }
   },
   "outputs": [],
   "source": [
    "user_seen = train.groupby('pid').tid.apply(set).to_dict()\n",
    "val_tracks = val.groupby('pid').tid.apply(set).to_dict()"
   ]
  },
  {
   "cell_type": "code",
   "execution_count": 6,
   "metadata": {
    "ExecuteTime": {
     "end_time": "2018-07-01T15:33:12.135310Z",
     "start_time": "2018-07-01T15:33:12.110641Z"
    }
   },
   "outputs": [],
   "source": [
    "config = {\n",
    "    'num_playlists': df_playlists_info.pid.max() + 1,\n",
    "    'num_tracks': df_tracks.tid.max() + 1,\n",
    "    'model_path': 'models/lightfm_model_text.pkl',\n",
    "}"
   ]
  },
  {
   "cell_type": "code",
   "execution_count": 7,
   "metadata": {
    "ExecuteTime": {
     "end_time": "2018-07-01T15:33:12.575131Z",
     "start_time": "2018-07-01T15:33:12.137278Z"
    }
   },
   "outputs": [],
   "source": [
    "zeros_pids = np.array(list(set(val1_pids).difference(train.pid.unique())))\n",
    "\n",
    "no_zeros_pids = np.array(list(set(val1_pids).difference(zeros_pids))[:1000])\n",
    "target_pids = np.hstack([zeros_pids, no_zeros_pids])\n",
    "\n",
    "playlist_name1 = df_playlists_test_info.set_index('pid').name\n",
    "playlist_name2 = df_playlists_info.set_index('pid').name\n",
    "playlist_name = pd.concat([playlist_name1, playlist_name2]).sort_index()"
   ]
  },
  {
   "cell_type": "code",
   "execution_count": 8,
   "metadata": {},
   "outputs": [],
   "source": [
    "playlist_name = playlist_name.reset_index(drop=True)\n",
    "playlist_name = playlist_name.reindex(np.arange(config['num_playlists'])).fillna('')\n",
    "# .reindex(np.arange(config['num_playlists']))\n",
    "\n",
    "vectorizer = CountVectorizer(max_features=20000)\n",
    "user_features = vectorizer.fit_transform(playlist_name)\n",
    "\n",
    "user_features = sp.hstack([sp.eye(config['num_playlists']), user_features])"
   ]
  },
  {
   "cell_type": "code",
   "execution_count": 9,
   "metadata": {
    "ExecuteTime": {
     "end_time": "2018-07-01T15:33:17.360111Z",
     "start_time": "2018-07-01T15:33:16.456609Z"
    }
   },
   "outputs": [],
   "source": [
    "X_train = sp.coo_matrix(\n",
    "    (np.ones(len(train)), (train.pid, train.tid)),\n",
    "    shape=(config['num_playlists'], config['num_tracks'])\n",
    ")"
   ]
  },
  {
   "cell_type": "code",
   "execution_count": 10,
   "metadata": {
    "ExecuteTime": {
     "end_time": "2018-07-01T15:33:17.365490Z",
     "start_time": "2018-07-01T15:33:17.362077Z"
    }
   },
   "outputs": [],
   "source": [
    "model = LightFMWrapper(\n",
    "    no_components=200, \n",
    "    loss='warp', \n",
    "    learning_rate=0.03, \n",
    "    max_sampled=400, \n",
    "    random_state=1,\n",
    "    user_alpha=1e-05,\n",
    ")"
   ]
  },
  {
   "cell_type": "code",
   "execution_count": 11,
   "metadata": {
    "ExecuteTime": {
     "end_time": "2018-07-01T15:45:17.381236Z",
     "start_time": "2018-07-01T15:33:17.366988Z"
    },
    "scrolled": true
   },
   "outputs": [
    {
     "name": "stdout",
     "output_type": "stream",
     "text": [
      "iteration: 0\n",
      "Batch predict: user_ids: 1,000, item_ids: 212,601\n",
      "Start recommending: using single process\n",
      "Recommendations for chunk 0 done in 27.566s. 0.0276 s by user\n",
      "0.015731011650883513 0.042915827128738204\n",
      "iteration: 1\n",
      "Batch predict: user_ids: 1,000, item_ids: 212,601\n",
      "Start recommending: using single process\n",
      "Recommendations for chunk 0 done in 28.458s. 0.0285 s by user\n",
      "0.012003157379362504 0.0527908607297672\n",
      "iteration: 2\n",
      "Batch predict: user_ids: 1,000, item_ids: 212,601\n",
      "Start recommending: using single process\n",
      "Recommendations for chunk 0 done in 27.054s. 0.0271 s by user\n",
      "0.009768487851248085 0.055516085132755244\n",
      "iteration: 3\n",
      "Batch predict: user_ids: 1,000, item_ids: 212,601\n",
      "Start recommending: using single process\n",
      "Recommendations for chunk 0 done in 27.112s. 0.0271 s by user\n",
      "0.008931517916406213 0.0557987105399528\n",
      "iteration: 4\n",
      "Batch predict: user_ids: 1,000, item_ids: 212,601\n",
      "Start recommending: using single process\n",
      "Recommendations for chunk 0 done in 27.461s. 0.0275 s by user\n",
      "0.008148360595144672 0.05702999161162834\n",
      "iteration: 5\n",
      "Batch predict: user_ids: 1,000, item_ids: 212,601\n",
      "Start recommending: using single process\n",
      "Recommendations for chunk 0 done in 27.162s. 0.0272 s by user\n",
      "0.008148495470524523 0.05593224657788639\n",
      "iteration: 6\n",
      "Batch predict: user_ids: 1,000, item_ids: 212,601\n",
      "Start recommending: using single process\n",
      "Recommendations for chunk 0 done in 27.125s. 0.0271 s by user\n",
      "0.008556054397170061 0.05501283326758952\n",
      "iteration: 7\n",
      "Batch predict: user_ids: 1,000, item_ids: 212,601\n",
      "Start recommending: using single process\n",
      "Recommendations for chunk 0 done in 27.080s. 0.0271 s by user\n",
      "0.008065755799469188 0.05584281398359692\n",
      "iteration: 8\n",
      "Batch predict: user_ids: 1,000, item_ids: 212,601\n",
      "Start recommending: using single process\n",
      "Recommendations for chunk 0 done in 27.996s. 0.0280 s by user\n",
      "0.008130373628529523 0.05770471413002515\n",
      "iteration: 9\n",
      "Batch predict: user_ids: 1,000, item_ids: 212,601\n",
      "Start recommending: using single process\n",
      "Recommendations for chunk 0 done in 27.412s. 0.0274 s by user\n",
      "0.008031797858607831 0.05691792659422733\n"
     ]
    }
   ],
   "source": [
    "best_score = 0\n",
    "\n",
    "for i in range(10):\n",
    "    print(\"iteration:\", i)\n",
    "    model.fit_partial(X_train, epochs=3, num_threads=1, user_features=user_features)\n",
    "\n",
    "    model.batch_setup(\n",
    "        item_chunks={0: np.arange(config['num_tracks'])},\n",
    "        n_process=1, \n",
    "        item_features=None,\n",
    "        user_features=user_features,\n",
    "    )\n",
    "\n",
    "    res = model.batch_predict(chunk_id=0, user_ids=target_pids, top_k=600)\n",
    "    model.batch_cleanup()\n",
    "    \n",
    "    score = []\n",
    "    score2 = []\n",
    "    \n",
    "    for pid in zeros_pids:\n",
    "        tracks_t = val_tracks[pid]\n",
    "        tracks = [i for i in res[pid][0] if i not in user_seen.get(pid, set())][:len(tracks_t)]\n",
    "        guess = np.sum([i in tracks_t for i in tracks])\n",
    "        score.append(guess / len(tracks_t))\n",
    "    \n",
    "    for pid in no_zeros_pids:\n",
    "        tracks_t = val_tracks[pid]\n",
    "        tracks = [i for i in res[pid][0] if i not in user_seen.get(pid, set())][:len(tracks_t)]\n",
    "        guess = np.sum([i in tracks_t for i in tracks])\n",
    "        score2.append(guess / len(tracks_t))\n",
    "    \n",
    "    score = np.mean(score)\n",
    "    score2 = np.mean(score2)\n",
    "    \n",
    "    print(score, score2)\n",
    "    if score > best_score:\n",
    "        joblib.dump(model, open(config['model_path'], 'wb'))\n",
    "        best_score = score"
   ]
  },
  {
   "cell_type": "code",
   "execution_count": 12,
   "metadata": {
    "ExecuteTime": {
     "end_time": "2018-07-01T15:45:17.416330Z",
     "start_time": "2018-07-01T15:45:17.383320Z"
    }
   },
   "outputs": [],
   "source": [
    "joblib.dump(user_features, open('models/user_features.pkl', 'wb'))"
   ]
  },
  {
   "cell_type": "code",
   "execution_count": 13,
   "metadata": {
    "ExecuteTime": {
     "end_time": "2018-07-01T15:45:23.412688Z",
     "start_time": "2018-07-01T15:45:17.418274Z"
    }
   },
   "outputs": [],
   "source": [
    "model = joblib.load(open(config['model_path'], 'rb'))"
   ]
  }
 ],
 "metadata": {
  "kernelspec": {
   "display_name": "csci5123-proj",
   "language": "python",
   "name": "python3"
  },
  "language_info": {
   "codemirror_mode": {
    "name": "ipython",
    "version": 3
   },
   "file_extension": ".py",
   "mimetype": "text/x-python",
   "name": "python",
   "nbconvert_exporter": "python",
   "pygments_lexer": "ipython3",
   "version": "3.10.12"
  },
  "toc": {
   "nav_menu": {},
   "number_sections": true,
   "sideBar": true,
   "skip_h1_title": false,
   "title_cell": "Table of Contents",
   "title_sidebar": "Contents",
   "toc_cell": false,
   "toc_position": {},
   "toc_section_display": true,
   "toc_window_display": false
  }
 },
 "nbformat": 4,
 "nbformat_minor": 2
}
